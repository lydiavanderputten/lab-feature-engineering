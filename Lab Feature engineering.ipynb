{
 "cells": [
  {
   "cell_type": "code",
   "execution_count": 102,
   "id": "bfbb12be",
   "metadata": {},
   "outputs": [],
   "source": [
    "import pandas as pd\n",
    "import numpy as np\n",
    "import matplotlib.pyplot as plt\n",
    "pd.set_option('display.max_columns', None)\n",
    "import seaborn as sns \n",
    "import warnings\n",
    "warnings.filterwarnings('ignore')"
   ]
  },
  {
   "cell_type": "code",
   "execution_count": null,
   "id": "db38f69b",
   "metadata": {},
   "outputs": [],
   "source": [
    "#see input 96 for lab Feature Engineering"
   ]
  },
  {
   "cell_type": "code",
   "execution_count": 2,
   "id": "69b805a2",
   "metadata": {},
   "outputs": [
    {
     "name": "stdout",
     "output_type": "stream",
     "text": [
      "(95412, 481)\n"
     ]
    },
    {
     "data": {
      "text/html": [
       "<div>\n",
       "<style scoped>\n",
       "    .dataframe tbody tr th:only-of-type {\n",
       "        vertical-align: middle;\n",
       "    }\n",
       "\n",
       "    .dataframe tbody tr th {\n",
       "        vertical-align: top;\n",
       "    }\n",
       "\n",
       "    .dataframe thead th {\n",
       "        text-align: right;\n",
       "    }\n",
       "</style>\n",
       "<table border=\"1\" class=\"dataframe\">\n",
       "  <thead>\n",
       "    <tr style=\"text-align: right;\">\n",
       "      <th></th>\n",
       "      <th>ODATEDW</th>\n",
       "      <th>OSOURCE</th>\n",
       "      <th>TCODE</th>\n",
       "      <th>STATE</th>\n",
       "      <th>ZIP</th>\n",
       "      <th>MAILCODE</th>\n",
       "      <th>PVASTATE</th>\n",
       "      <th>DOB</th>\n",
       "      <th>NOEXCH</th>\n",
       "      <th>RECINHSE</th>\n",
       "      <th>...</th>\n",
       "      <th>TARGET_D</th>\n",
       "      <th>HPHONE_D</th>\n",
       "      <th>RFA_2R</th>\n",
       "      <th>RFA_2F</th>\n",
       "      <th>RFA_2A</th>\n",
       "      <th>MDMAUD_R</th>\n",
       "      <th>MDMAUD_F</th>\n",
       "      <th>MDMAUD_A</th>\n",
       "      <th>CLUSTER2</th>\n",
       "      <th>GEOCODE2</th>\n",
       "    </tr>\n",
       "  </thead>\n",
       "  <tbody>\n",
       "    <tr>\n",
       "      <th>0</th>\n",
       "      <td>8901</td>\n",
       "      <td>GRI</td>\n",
       "      <td>0</td>\n",
       "      <td>IL</td>\n",
       "      <td>61081</td>\n",
       "      <td></td>\n",
       "      <td></td>\n",
       "      <td>3712</td>\n",
       "      <td>0</td>\n",
       "      <td></td>\n",
       "      <td>...</td>\n",
       "      <td>0.0</td>\n",
       "      <td>0</td>\n",
       "      <td>L</td>\n",
       "      <td>4</td>\n",
       "      <td>E</td>\n",
       "      <td>X</td>\n",
       "      <td>X</td>\n",
       "      <td>X</td>\n",
       "      <td>39.0</td>\n",
       "      <td>C</td>\n",
       "    </tr>\n",
       "    <tr>\n",
       "      <th>1</th>\n",
       "      <td>9401</td>\n",
       "      <td>BOA</td>\n",
       "      <td>1</td>\n",
       "      <td>CA</td>\n",
       "      <td>91326</td>\n",
       "      <td></td>\n",
       "      <td></td>\n",
       "      <td>5202</td>\n",
       "      <td>0</td>\n",
       "      <td></td>\n",
       "      <td>...</td>\n",
       "      <td>0.0</td>\n",
       "      <td>0</td>\n",
       "      <td>L</td>\n",
       "      <td>2</td>\n",
       "      <td>G</td>\n",
       "      <td>X</td>\n",
       "      <td>X</td>\n",
       "      <td>X</td>\n",
       "      <td>1.0</td>\n",
       "      <td>A</td>\n",
       "    </tr>\n",
       "    <tr>\n",
       "      <th>2</th>\n",
       "      <td>9001</td>\n",
       "      <td>AMH</td>\n",
       "      <td>1</td>\n",
       "      <td>NC</td>\n",
       "      <td>27017</td>\n",
       "      <td></td>\n",
       "      <td></td>\n",
       "      <td>0</td>\n",
       "      <td>0</td>\n",
       "      <td></td>\n",
       "      <td>...</td>\n",
       "      <td>0.0</td>\n",
       "      <td>1</td>\n",
       "      <td>L</td>\n",
       "      <td>4</td>\n",
       "      <td>E</td>\n",
       "      <td>X</td>\n",
       "      <td>X</td>\n",
       "      <td>X</td>\n",
       "      <td>60.0</td>\n",
       "      <td>C</td>\n",
       "    </tr>\n",
       "    <tr>\n",
       "      <th>3</th>\n",
       "      <td>8701</td>\n",
       "      <td>BRY</td>\n",
       "      <td>0</td>\n",
       "      <td>CA</td>\n",
       "      <td>95953</td>\n",
       "      <td></td>\n",
       "      <td></td>\n",
       "      <td>2801</td>\n",
       "      <td>0</td>\n",
       "      <td></td>\n",
       "      <td>...</td>\n",
       "      <td>0.0</td>\n",
       "      <td>1</td>\n",
       "      <td>L</td>\n",
       "      <td>4</td>\n",
       "      <td>E</td>\n",
       "      <td>X</td>\n",
       "      <td>X</td>\n",
       "      <td>X</td>\n",
       "      <td>41.0</td>\n",
       "      <td>C</td>\n",
       "    </tr>\n",
       "    <tr>\n",
       "      <th>4</th>\n",
       "      <td>8601</td>\n",
       "      <td></td>\n",
       "      <td>0</td>\n",
       "      <td>FL</td>\n",
       "      <td>33176</td>\n",
       "      <td></td>\n",
       "      <td></td>\n",
       "      <td>2001</td>\n",
       "      <td>0</td>\n",
       "      <td>X</td>\n",
       "      <td>...</td>\n",
       "      <td>0.0</td>\n",
       "      <td>1</td>\n",
       "      <td>L</td>\n",
       "      <td>2</td>\n",
       "      <td>F</td>\n",
       "      <td>X</td>\n",
       "      <td>X</td>\n",
       "      <td>X</td>\n",
       "      <td>26.0</td>\n",
       "      <td>A</td>\n",
       "    </tr>\n",
       "  </tbody>\n",
       "</table>\n",
       "<p>5 rows × 481 columns</p>\n",
       "</div>"
      ],
      "text/plain": [
       "   ODATEDW OSOURCE  TCODE STATE    ZIP MAILCODE PVASTATE   DOB NOEXCH  \\\n",
       "0     8901     GRI      0    IL  61081                    3712      0   \n",
       "1     9401     BOA      1    CA  91326                    5202      0   \n",
       "2     9001     AMH      1    NC  27017                       0      0   \n",
       "3     8701     BRY      0    CA  95953                    2801      0   \n",
       "4     8601              0    FL  33176                    2001      0   \n",
       "\n",
       "  RECINHSE  ... TARGET_D HPHONE_D RFA_2R RFA_2F RFA_2A MDMAUD_R  MDMAUD_F  \\\n",
       "0           ...      0.0        0      L      4      E        X         X   \n",
       "1           ...      0.0        0      L      2      G        X         X   \n",
       "2           ...      0.0        1      L      4      E        X         X   \n",
       "3           ...      0.0        1      L      4      E        X         X   \n",
       "4        X  ...      0.0        1      L      2      F        X         X   \n",
       "\n",
       "  MDMAUD_A CLUSTER2 GEOCODE2  \n",
       "0        X     39.0        C  \n",
       "1        X      1.0        A  \n",
       "2        X     60.0        C  \n",
       "3        X     41.0        C  \n",
       "4        X     26.0        A  \n",
       "\n",
       "[5 rows x 481 columns]"
      ]
     },
     "execution_count": 2,
     "metadata": {},
     "output_type": "execute_result"
    }
   ],
   "source": [
    "data = pd.read_csv('learningSet.csv')\n",
    "print(data.shape)\n",
    "data.head()"
   ]
  },
  {
   "cell_type": "code",
   "execution_count": 3,
   "id": "ebdd39a0",
   "metadata": {},
   "outputs": [
    {
     "data": {
      "text/plain": [
       "0    90569\n",
       "1     4843\n",
       "Name: TARGET_B, dtype: int64"
      ]
     },
     "execution_count": 3,
     "metadata": {},
     "output_type": "execute_result"
    }
   ],
   "source": [
    "data['TARGET_B'].value_counts()"
   ]
  },
  {
   "cell_type": "code",
   "execution_count": 4,
   "id": "930787a1",
   "metadata": {},
   "outputs": [
    {
     "data": {
      "text/plain": [
       "count    95412.000000\n",
       "mean         0.793073\n",
       "std          4.429725\n",
       "min          0.000000\n",
       "25%          0.000000\n",
       "50%          0.000000\n",
       "75%          0.000000\n",
       "max        200.000000\n",
       "Name: TARGET_D, dtype: float64"
      ]
     },
     "execution_count": 4,
     "metadata": {},
     "output_type": "execute_result"
    }
   ],
   "source": [
    "data['TARGET_D'].describe()"
   ]
  },
  {
   "cell_type": "code",
   "execution_count": null,
   "id": "cad43ac5",
   "metadata": {},
   "outputs": [],
   "source": [
    "#Review data cleaning process"
   ]
  },
  {
   "cell_type": "code",
   "execution_count": 5,
   "id": "8fc79df5",
   "metadata": {},
   "outputs": [
    {
     "data": {
      "text/html": [
       "<div>\n",
       "<style scoped>\n",
       "    .dataframe tbody tr th:only-of-type {\n",
       "        vertical-align: middle;\n",
       "    }\n",
       "\n",
       "    .dataframe tbody tr th {\n",
       "        vertical-align: top;\n",
       "    }\n",
       "\n",
       "    .dataframe thead th {\n",
       "        text-align: right;\n",
       "    }\n",
       "</style>\n",
       "<table border=\"1\" class=\"dataframe\">\n",
       "  <thead>\n",
       "    <tr style=\"text-align: right;\">\n",
       "      <th></th>\n",
       "      <th>column_name</th>\n",
       "      <th>nulls_percentage</th>\n",
       "    </tr>\n",
       "  </thead>\n",
       "  <tbody>\n",
       "    <tr>\n",
       "      <th>0</th>\n",
       "      <td>ODATEDW</td>\n",
       "      <td>0.000000</td>\n",
       "    </tr>\n",
       "    <tr>\n",
       "      <th>1</th>\n",
       "      <td>OSOURCE</td>\n",
       "      <td>0.000000</td>\n",
       "    </tr>\n",
       "    <tr>\n",
       "      <th>2</th>\n",
       "      <td>TCODE</td>\n",
       "      <td>0.000000</td>\n",
       "    </tr>\n",
       "    <tr>\n",
       "      <th>3</th>\n",
       "      <td>STATE</td>\n",
       "      <td>0.000000</td>\n",
       "    </tr>\n",
       "    <tr>\n",
       "      <th>4</th>\n",
       "      <td>ZIP</td>\n",
       "      <td>0.000000</td>\n",
       "    </tr>\n",
       "    <tr>\n",
       "      <th>...</th>\n",
       "      <td>...</td>\n",
       "      <td>...</td>\n",
       "    </tr>\n",
       "    <tr>\n",
       "      <th>476</th>\n",
       "      <td>MDMAUD_R</td>\n",
       "      <td>0.000000</td>\n",
       "    </tr>\n",
       "    <tr>\n",
       "      <th>477</th>\n",
       "      <td>MDMAUD_F</td>\n",
       "      <td>0.000000</td>\n",
       "    </tr>\n",
       "    <tr>\n",
       "      <th>478</th>\n",
       "      <td>MDMAUD_A</td>\n",
       "      <td>0.000000</td>\n",
       "    </tr>\n",
       "    <tr>\n",
       "      <th>479</th>\n",
       "      <td>CLUSTER2</td>\n",
       "      <td>0.001383</td>\n",
       "    </tr>\n",
       "    <tr>\n",
       "      <th>480</th>\n",
       "      <td>GEOCODE2</td>\n",
       "      <td>0.001383</td>\n",
       "    </tr>\n",
       "  </tbody>\n",
       "</table>\n",
       "<p>481 rows × 2 columns</p>\n",
       "</div>"
      ],
      "text/plain": [
       "    column_name  nulls_percentage\n",
       "0       ODATEDW          0.000000\n",
       "1       OSOURCE          0.000000\n",
       "2         TCODE          0.000000\n",
       "3         STATE          0.000000\n",
       "4           ZIP          0.000000\n",
       "..          ...               ...\n",
       "476    MDMAUD_R          0.000000\n",
       "477    MDMAUD_F          0.000000\n",
       "478    MDMAUD_A          0.000000\n",
       "479    CLUSTER2          0.001383\n",
       "480    GEOCODE2          0.001383\n",
       "\n",
       "[481 rows x 2 columns]"
      ]
     },
     "execution_count": 5,
     "metadata": {},
     "output_type": "execute_result"
    }
   ],
   "source": [
    "nulls_percent_df = pd.DataFrame(data.isna().sum()/len(data)).reset_index()\n",
    "nulls_percent_df.columns = ['column_name', 'nulls_percentage']\n",
    "nulls_percent_df"
   ]
  },
  {
   "cell_type": "code",
   "execution_count": 6,
   "id": "967d50c7",
   "metadata": {},
   "outputs": [
    {
     "data": {
      "text/html": [
       "<div>\n",
       "<style scoped>\n",
       "    .dataframe tbody tr th:only-of-type {\n",
       "        vertical-align: middle;\n",
       "    }\n",
       "\n",
       "    .dataframe tbody tr th {\n",
       "        vertical-align: top;\n",
       "    }\n",
       "\n",
       "    .dataframe thead th {\n",
       "        text-align: right;\n",
       "    }\n",
       "</style>\n",
       "<table border=\"1\" class=\"dataframe\">\n",
       "  <thead>\n",
       "    <tr style=\"text-align: right;\">\n",
       "      <th></th>\n",
       "      <th>column_name</th>\n",
       "      <th>nulls_percentage</th>\n",
       "    </tr>\n",
       "  </thead>\n",
       "  <tbody>\n",
       "    <tr>\n",
       "      <th>16</th>\n",
       "      <td>AGE</td>\n",
       "      <td>0.248030</td>\n",
       "    </tr>\n",
       "    <tr>\n",
       "      <th>23</th>\n",
       "      <td>NUMCHLD</td>\n",
       "      <td>0.870184</td>\n",
       "    </tr>\n",
       "    <tr>\n",
       "      <th>24</th>\n",
       "      <td>INCOME</td>\n",
       "      <td>0.223096</td>\n",
       "    </tr>\n",
       "    <tr>\n",
       "      <th>26</th>\n",
       "      <td>WEALTH1</td>\n",
       "      <td>0.468830</td>\n",
       "    </tr>\n",
       "    <tr>\n",
       "      <th>28</th>\n",
       "      <td>MBCRAFT</td>\n",
       "      <td>0.553955</td>\n",
       "    </tr>\n",
       "    <tr>\n",
       "      <th>...</th>\n",
       "      <td>...</td>\n",
       "      <td>...</td>\n",
       "    </tr>\n",
       "    <tr>\n",
       "      <th>455</th>\n",
       "      <td>RAMNT_24</td>\n",
       "      <td>0.814090</td>\n",
       "    </tr>\n",
       "    <tr>\n",
       "      <th>466</th>\n",
       "      <td>NEXTDATE</td>\n",
       "      <td>0.104526</td>\n",
       "    </tr>\n",
       "    <tr>\n",
       "      <th>467</th>\n",
       "      <td>TIMELAG</td>\n",
       "      <td>0.104526</td>\n",
       "    </tr>\n",
       "    <tr>\n",
       "      <th>479</th>\n",
       "      <td>CLUSTER2</td>\n",
       "      <td>0.001383</td>\n",
       "    </tr>\n",
       "    <tr>\n",
       "      <th>480</th>\n",
       "      <td>GEOCODE2</td>\n",
       "      <td>0.001383</td>\n",
       "    </tr>\n",
       "  </tbody>\n",
       "</table>\n",
       "<p>92 rows × 2 columns</p>\n",
       "</div>"
      ],
      "text/plain": [
       "    column_name  nulls_percentage\n",
       "16          AGE          0.248030\n",
       "23      NUMCHLD          0.870184\n",
       "24       INCOME          0.223096\n",
       "26      WEALTH1          0.468830\n",
       "28      MBCRAFT          0.553955\n",
       "..          ...               ...\n",
       "455    RAMNT_24          0.814090\n",
       "466    NEXTDATE          0.104526\n",
       "467     TIMELAG          0.104526\n",
       "479    CLUSTER2          0.001383\n",
       "480    GEOCODE2          0.001383\n",
       "\n",
       "[92 rows x 2 columns]"
      ]
     },
     "execution_count": 6,
     "metadata": {},
     "output_type": "execute_result"
    }
   ],
   "source": [
    "nulls_percent_df[nulls_percent_df['nulls_percentage']!=0]"
   ]
  },
  {
   "cell_type": "code",
   "execution_count": 7,
   "id": "efa75777",
   "metadata": {},
   "outputs": [
    {
     "data": {
      "text/plain": [
       "23      NUMCHLD\n",
       "26      WEALTH1\n",
       "28      MBCRAFT\n",
       "29     MBGARDEN\n",
       "30      MBBOOKS\n",
       "         ...   \n",
       "451    RAMNT_20\n",
       "452    RAMNT_21\n",
       "453    RAMNT_22\n",
       "454    RAMNT_23\n",
       "455    RAMNT_24\n",
       "Name: column_name, Length: 72, dtype: object"
      ]
     },
     "execution_count": 7,
     "metadata": {},
     "output_type": "execute_result"
    }
   ],
   "source": [
    "columns_above_threshold = nulls_percent_df[nulls_percent_df['nulls_percentage']>0.25]\n",
    "columns_above_threshold['column_name']"
   ]
  },
  {
   "cell_type": "code",
   "execution_count": 8,
   "id": "ebd46146",
   "metadata": {},
   "outputs": [
    {
     "name": "stdout",
     "output_type": "stream",
     "text": [
      "['NUMCHLD', 'WEALTH1', 'MBCRAFT', 'MBGARDEN', 'MBBOOKS', 'MBCOLECT', 'MAGFAML', 'MAGFEM', 'MAGMALE', 'PUBGARDN', 'PUBCULIN', 'PUBHLTH', 'PUBDOITY', 'PUBNEWFN', 'PUBPHOTO', 'PUBOPP', 'WEALTH2', 'ADATE_5', 'ADATE_10', 'ADATE_13', 'ADATE_15', 'ADATE_17', 'ADATE_19', 'ADATE_20', 'ADATE_21', 'ADATE_22', 'ADATE_23', 'ADATE_24', 'RDATE_3', 'RDATE_4', 'RDATE_5', 'RDATE_6', 'RDATE_7', 'RDATE_8', 'RDATE_9', 'RDATE_10', 'RDATE_11', 'RDATE_12', 'RDATE_13', 'RDATE_14', 'RDATE_15', 'RDATE_16', 'RDATE_17', 'RDATE_18', 'RDATE_19', 'RDATE_20', 'RDATE_21', 'RDATE_22', 'RDATE_23', 'RDATE_24', 'RAMNT_3', 'RAMNT_4', 'RAMNT_5', 'RAMNT_6', 'RAMNT_7', 'RAMNT_8', 'RAMNT_9', 'RAMNT_10', 'RAMNT_11', 'RAMNT_12', 'RAMNT_13', 'RAMNT_14', 'RAMNT_15', 'RAMNT_16', 'RAMNT_17', 'RAMNT_18', 'RAMNT_19', 'RAMNT_20', 'RAMNT_21', 'RAMNT_22', 'RAMNT_23', 'RAMNT_24']\n"
     ]
    }
   ],
   "source": [
    "drop_columns_list = list(columns_above_threshold['column_name'])\n",
    "print(drop_columns_list)"
   ]
  },
  {
   "cell_type": "code",
   "execution_count": 9,
   "id": "44cc3f79",
   "metadata": {},
   "outputs": [
    {
     "name": "stdout",
     "output_type": "stream",
     "text": [
      "['NUMCHLD', 'MBCRAFT', 'MBGARDEN', 'MBBOOKS', 'MBCOLECT', 'MAGFAML', 'MAGFEM', 'MAGMALE', 'PUBGARDN', 'PUBCULIN', 'PUBHLTH', 'PUBDOITY', 'PUBNEWFN', 'PUBPHOTO', 'PUBOPP', 'ADATE_5', 'ADATE_10', 'ADATE_13', 'ADATE_15', 'ADATE_17', 'ADATE_19', 'ADATE_20', 'ADATE_21', 'ADATE_22', 'ADATE_23', 'ADATE_24', 'RDATE_3', 'RDATE_4', 'RDATE_5', 'RDATE_6', 'RDATE_7', 'RDATE_8', 'RDATE_9', 'RDATE_10', 'RDATE_11', 'RDATE_12', 'RDATE_13', 'RDATE_14', 'RDATE_15', 'RDATE_16', 'RDATE_17', 'RDATE_18', 'RDATE_19', 'RDATE_20', 'RDATE_21', 'RDATE_22', 'RDATE_23', 'RDATE_24', 'RAMNT_3', 'RAMNT_4', 'RAMNT_5', 'RAMNT_6', 'RAMNT_7', 'RAMNT_8', 'RAMNT_9', 'RAMNT_10', 'RAMNT_11', 'RAMNT_12', 'RAMNT_13', 'RAMNT_14', 'RAMNT_15', 'RAMNT_16', 'RAMNT_17', 'RAMNT_18', 'RAMNT_19', 'RAMNT_20', 'RAMNT_21', 'RAMNT_22', 'RAMNT_23', 'RAMNT_24']\n"
     ]
    }
   ],
   "source": [
    "cols = ['WEALTH1', 'WEALTH2']\n",
    "for item in cols:\n",
    "    drop_columns_list.remove(item)  \n",
    "print(drop_columns_list)"
   ]
  },
  {
   "cell_type": "code",
   "execution_count": 10,
   "id": "5a856f04",
   "metadata": {},
   "outputs": [
    {
     "data": {
      "text/plain": [
       "(95412, 411)"
      ]
     },
     "execution_count": 10,
     "metadata": {},
     "output_type": "execute_result"
    }
   ],
   "source": [
    "data = data.drop(columns=drop_columns_list)\n",
    "data.shape"
   ]
  },
  {
   "cell_type": "code",
   "execution_count": 15,
   "id": "cb545b47",
   "metadata": {},
   "outputs": [
    {
     "data": {
      "text/html": [
       "<div>\n",
       "<style scoped>\n",
       "    .dataframe tbody tr th:only-of-type {\n",
       "        vertical-align: middle;\n",
       "    }\n",
       "\n",
       "    .dataframe tbody tr th {\n",
       "        vertical-align: top;\n",
       "    }\n",
       "\n",
       "    .dataframe thead th {\n",
       "        text-align: right;\n",
       "    }\n",
       "</style>\n",
       "<table border=\"1\" class=\"dataframe\">\n",
       "  <thead>\n",
       "    <tr style=\"text-align: right;\">\n",
       "      <th></th>\n",
       "      <th>ODATEDW</th>\n",
       "      <th>OSOURCE</th>\n",
       "      <th>TCODE</th>\n",
       "      <th>STATE</th>\n",
       "      <th>ZIP</th>\n",
       "      <th>MAILCODE</th>\n",
       "      <th>PVASTATE</th>\n",
       "      <th>DOB</th>\n",
       "      <th>NOEXCH</th>\n",
       "      <th>RECINHSE</th>\n",
       "      <th>...</th>\n",
       "      <th>TARGET_D</th>\n",
       "      <th>HPHONE_D</th>\n",
       "      <th>RFA_2R</th>\n",
       "      <th>RFA_2F</th>\n",
       "      <th>RFA_2A</th>\n",
       "      <th>MDMAUD_R</th>\n",
       "      <th>MDMAUD_F</th>\n",
       "      <th>MDMAUD_A</th>\n",
       "      <th>CLUSTER2</th>\n",
       "      <th>GEOCODE2</th>\n",
       "    </tr>\n",
       "  </thead>\n",
       "  <tbody>\n",
       "    <tr>\n",
       "      <th>0</th>\n",
       "      <td>8901</td>\n",
       "      <td>GRI</td>\n",
       "      <td>0</td>\n",
       "      <td>IL</td>\n",
       "      <td>61081</td>\n",
       "      <td>A</td>\n",
       "      <td></td>\n",
       "      <td>3712</td>\n",
       "      <td>0</td>\n",
       "      <td></td>\n",
       "      <td>...</td>\n",
       "      <td>0.0</td>\n",
       "      <td>0</td>\n",
       "      <td>L</td>\n",
       "      <td>4</td>\n",
       "      <td>E</td>\n",
       "      <td>X</td>\n",
       "      <td>X</td>\n",
       "      <td>X</td>\n",
       "      <td>39.0</td>\n",
       "      <td>C</td>\n",
       "    </tr>\n",
       "    <tr>\n",
       "      <th>1</th>\n",
       "      <td>9401</td>\n",
       "      <td>BOA</td>\n",
       "      <td>1</td>\n",
       "      <td>CA</td>\n",
       "      <td>91326</td>\n",
       "      <td>A</td>\n",
       "      <td></td>\n",
       "      <td>5202</td>\n",
       "      <td>0</td>\n",
       "      <td></td>\n",
       "      <td>...</td>\n",
       "      <td>0.0</td>\n",
       "      <td>0</td>\n",
       "      <td>L</td>\n",
       "      <td>2</td>\n",
       "      <td>G</td>\n",
       "      <td>X</td>\n",
       "      <td>X</td>\n",
       "      <td>X</td>\n",
       "      <td>1.0</td>\n",
       "      <td>A</td>\n",
       "    </tr>\n",
       "    <tr>\n",
       "      <th>2</th>\n",
       "      <td>9001</td>\n",
       "      <td>AMH</td>\n",
       "      <td>1</td>\n",
       "      <td>NC</td>\n",
       "      <td>27017</td>\n",
       "      <td>A</td>\n",
       "      <td></td>\n",
       "      <td>0</td>\n",
       "      <td>0</td>\n",
       "      <td></td>\n",
       "      <td>...</td>\n",
       "      <td>0.0</td>\n",
       "      <td>1</td>\n",
       "      <td>L</td>\n",
       "      <td>4</td>\n",
       "      <td>E</td>\n",
       "      <td>X</td>\n",
       "      <td>X</td>\n",
       "      <td>X</td>\n",
       "      <td>60.0</td>\n",
       "      <td>C</td>\n",
       "    </tr>\n",
       "    <tr>\n",
       "      <th>3</th>\n",
       "      <td>8701</td>\n",
       "      <td>BRY</td>\n",
       "      <td>0</td>\n",
       "      <td>CA</td>\n",
       "      <td>95953</td>\n",
       "      <td>A</td>\n",
       "      <td></td>\n",
       "      <td>2801</td>\n",
       "      <td>0</td>\n",
       "      <td></td>\n",
       "      <td>...</td>\n",
       "      <td>0.0</td>\n",
       "      <td>1</td>\n",
       "      <td>L</td>\n",
       "      <td>4</td>\n",
       "      <td>E</td>\n",
       "      <td>X</td>\n",
       "      <td>X</td>\n",
       "      <td>X</td>\n",
       "      <td>41.0</td>\n",
       "      <td>C</td>\n",
       "    </tr>\n",
       "    <tr>\n",
       "      <th>4</th>\n",
       "      <td>8601</td>\n",
       "      <td></td>\n",
       "      <td>0</td>\n",
       "      <td>FL</td>\n",
       "      <td>33176</td>\n",
       "      <td>A</td>\n",
       "      <td></td>\n",
       "      <td>2001</td>\n",
       "      <td>0</td>\n",
       "      <td>X</td>\n",
       "      <td>...</td>\n",
       "      <td>0.0</td>\n",
       "      <td>1</td>\n",
       "      <td>L</td>\n",
       "      <td>2</td>\n",
       "      <td>F</td>\n",
       "      <td>X</td>\n",
       "      <td>X</td>\n",
       "      <td>X</td>\n",
       "      <td>26.0</td>\n",
       "      <td>A</td>\n",
       "    </tr>\n",
       "  </tbody>\n",
       "</table>\n",
       "<p>5 rows × 411 columns</p>\n",
       "</div>"
      ],
      "text/plain": [
       "   ODATEDW OSOURCE  TCODE STATE    ZIP MAILCODE PVASTATE   DOB NOEXCH  \\\n",
       "0     8901     GRI      0    IL  61081        A           3712      0   \n",
       "1     9401     BOA      1    CA  91326        A           5202      0   \n",
       "2     9001     AMH      1    NC  27017        A              0      0   \n",
       "3     8701     BRY      0    CA  95953        A           2801      0   \n",
       "4     8601              0    FL  33176        A           2001      0   \n",
       "\n",
       "  RECINHSE  ... TARGET_D HPHONE_D RFA_2R RFA_2F RFA_2A MDMAUD_R  MDMAUD_F  \\\n",
       "0           ...      0.0        0      L      4      E        X         X   \n",
       "1           ...      0.0        0      L      2      G        X         X   \n",
       "2           ...      0.0        1      L      4      E        X         X   \n",
       "3           ...      0.0        1      L      4      E        X         X   \n",
       "4        X  ...      0.0        1      L      2      F        X         X   \n",
       "\n",
       "  MDMAUD_A CLUSTER2 GEOCODE2  \n",
       "0        X     39.0        C  \n",
       "1        X      1.0        A  \n",
       "2        X     60.0        C  \n",
       "3        X     41.0        C  \n",
       "4        X     26.0        A  \n",
       "\n",
       "[5 rows x 411 columns]"
      ]
     },
     "execution_count": 15,
     "metadata": {},
     "output_type": "execute_result"
    }
   ],
   "source": [
    "data.head()"
   ]
  },
  {
   "cell_type": "code",
   "execution_count": 12,
   "id": "11b5d5fd",
   "metadata": {},
   "outputs": [
    {
     "data": {
      "text/plain": [
       "     94013\n",
       "B     1399\n",
       "Name: MAILCODE, dtype: int64"
      ]
     },
     "execution_count": 12,
     "metadata": {},
     "output_type": "execute_result"
    }
   ],
   "source": [
    "data['MAILCODE'].value_counts()"
   ]
  },
  {
   "cell_type": "code",
   "execution_count": 13,
   "id": "38f5f520",
   "metadata": {},
   "outputs": [],
   "source": [
    "data['MAILCODE'] = data['MAILCODE'].apply(lambda x: x.replace(\" \", \"A\"))"
   ]
  },
  {
   "cell_type": "code",
   "execution_count": 14,
   "id": "8f894b32",
   "metadata": {},
   "outputs": [
    {
     "data": {
      "text/plain": [
       "A    94013\n",
       "B     1399\n",
       "Name: MAILCODE, dtype: int64"
      ]
     },
     "execution_count": 14,
     "metadata": {},
     "output_type": "execute_result"
    }
   ],
   "source": [
    "data['MAILCODE'].value_counts()"
   ]
  },
  {
   "cell_type": "code",
   "execution_count": null,
   "id": "fcd43ae1",
   "metadata": {},
   "outputs": [],
   "source": [
    "# Now we can replace the rest space characters with np.NaN"
   ]
  },
  {
   "cell_type": "code",
   "execution_count": 16,
   "id": "345fa8a2",
   "metadata": {},
   "outputs": [],
   "source": [
    "data = data.apply(lambda x: x.replace(\" \", np.NaN))"
   ]
  },
  {
   "cell_type": "code",
   "execution_count": 17,
   "id": "952185df",
   "metadata": {},
   "outputs": [
    {
     "data": {
      "text/html": [
       "<div>\n",
       "<style scoped>\n",
       "    .dataframe tbody tr th:only-of-type {\n",
       "        vertical-align: middle;\n",
       "    }\n",
       "\n",
       "    .dataframe tbody tr th {\n",
       "        vertical-align: top;\n",
       "    }\n",
       "\n",
       "    .dataframe thead th {\n",
       "        text-align: right;\n",
       "    }\n",
       "</style>\n",
       "<table border=\"1\" class=\"dataframe\">\n",
       "  <thead>\n",
       "    <tr style=\"text-align: right;\">\n",
       "      <th></th>\n",
       "      <th>ODATEDW</th>\n",
       "      <th>OSOURCE</th>\n",
       "      <th>TCODE</th>\n",
       "      <th>STATE</th>\n",
       "      <th>ZIP</th>\n",
       "      <th>MAILCODE</th>\n",
       "      <th>PVASTATE</th>\n",
       "      <th>DOB</th>\n",
       "      <th>NOEXCH</th>\n",
       "      <th>RECINHSE</th>\n",
       "      <th>...</th>\n",
       "      <th>TARGET_D</th>\n",
       "      <th>HPHONE_D</th>\n",
       "      <th>RFA_2R</th>\n",
       "      <th>RFA_2F</th>\n",
       "      <th>RFA_2A</th>\n",
       "      <th>MDMAUD_R</th>\n",
       "      <th>MDMAUD_F</th>\n",
       "      <th>MDMAUD_A</th>\n",
       "      <th>CLUSTER2</th>\n",
       "      <th>GEOCODE2</th>\n",
       "    </tr>\n",
       "  </thead>\n",
       "  <tbody>\n",
       "    <tr>\n",
       "      <th>0</th>\n",
       "      <td>8901</td>\n",
       "      <td>GRI</td>\n",
       "      <td>0</td>\n",
       "      <td>IL</td>\n",
       "      <td>61081</td>\n",
       "      <td>A</td>\n",
       "      <td>NaN</td>\n",
       "      <td>3712</td>\n",
       "      <td>0</td>\n",
       "      <td>NaN</td>\n",
       "      <td>...</td>\n",
       "      <td>0.0</td>\n",
       "      <td>0</td>\n",
       "      <td>L</td>\n",
       "      <td>4</td>\n",
       "      <td>E</td>\n",
       "      <td>X</td>\n",
       "      <td>X</td>\n",
       "      <td>X</td>\n",
       "      <td>39.0</td>\n",
       "      <td>C</td>\n",
       "    </tr>\n",
       "    <tr>\n",
       "      <th>1</th>\n",
       "      <td>9401</td>\n",
       "      <td>BOA</td>\n",
       "      <td>1</td>\n",
       "      <td>CA</td>\n",
       "      <td>91326</td>\n",
       "      <td>A</td>\n",
       "      <td>NaN</td>\n",
       "      <td>5202</td>\n",
       "      <td>0</td>\n",
       "      <td>NaN</td>\n",
       "      <td>...</td>\n",
       "      <td>0.0</td>\n",
       "      <td>0</td>\n",
       "      <td>L</td>\n",
       "      <td>2</td>\n",
       "      <td>G</td>\n",
       "      <td>X</td>\n",
       "      <td>X</td>\n",
       "      <td>X</td>\n",
       "      <td>1.0</td>\n",
       "      <td>A</td>\n",
       "    </tr>\n",
       "    <tr>\n",
       "      <th>2</th>\n",
       "      <td>9001</td>\n",
       "      <td>AMH</td>\n",
       "      <td>1</td>\n",
       "      <td>NC</td>\n",
       "      <td>27017</td>\n",
       "      <td>A</td>\n",
       "      <td>NaN</td>\n",
       "      <td>0</td>\n",
       "      <td>0</td>\n",
       "      <td>NaN</td>\n",
       "      <td>...</td>\n",
       "      <td>0.0</td>\n",
       "      <td>1</td>\n",
       "      <td>L</td>\n",
       "      <td>4</td>\n",
       "      <td>E</td>\n",
       "      <td>X</td>\n",
       "      <td>X</td>\n",
       "      <td>X</td>\n",
       "      <td>60.0</td>\n",
       "      <td>C</td>\n",
       "    </tr>\n",
       "    <tr>\n",
       "      <th>3</th>\n",
       "      <td>8701</td>\n",
       "      <td>BRY</td>\n",
       "      <td>0</td>\n",
       "      <td>CA</td>\n",
       "      <td>95953</td>\n",
       "      <td>A</td>\n",
       "      <td>NaN</td>\n",
       "      <td>2801</td>\n",
       "      <td>0</td>\n",
       "      <td>NaN</td>\n",
       "      <td>...</td>\n",
       "      <td>0.0</td>\n",
       "      <td>1</td>\n",
       "      <td>L</td>\n",
       "      <td>4</td>\n",
       "      <td>E</td>\n",
       "      <td>X</td>\n",
       "      <td>X</td>\n",
       "      <td>X</td>\n",
       "      <td>41.0</td>\n",
       "      <td>C</td>\n",
       "    </tr>\n",
       "    <tr>\n",
       "      <th>4</th>\n",
       "      <td>8601</td>\n",
       "      <td>NaN</td>\n",
       "      <td>0</td>\n",
       "      <td>FL</td>\n",
       "      <td>33176</td>\n",
       "      <td>A</td>\n",
       "      <td>NaN</td>\n",
       "      <td>2001</td>\n",
       "      <td>0</td>\n",
       "      <td>X</td>\n",
       "      <td>...</td>\n",
       "      <td>0.0</td>\n",
       "      <td>1</td>\n",
       "      <td>L</td>\n",
       "      <td>2</td>\n",
       "      <td>F</td>\n",
       "      <td>X</td>\n",
       "      <td>X</td>\n",
       "      <td>X</td>\n",
       "      <td>26.0</td>\n",
       "      <td>A</td>\n",
       "    </tr>\n",
       "  </tbody>\n",
       "</table>\n",
       "<p>5 rows × 411 columns</p>\n",
       "</div>"
      ],
      "text/plain": [
       "   ODATEDW OSOURCE  TCODE STATE    ZIP MAILCODE PVASTATE   DOB NOEXCH  \\\n",
       "0     8901     GRI      0    IL  61081        A      NaN  3712      0   \n",
       "1     9401     BOA      1    CA  91326        A      NaN  5202      0   \n",
       "2     9001     AMH      1    NC  27017        A      NaN     0      0   \n",
       "3     8701     BRY      0    CA  95953        A      NaN  2801      0   \n",
       "4     8601     NaN      0    FL  33176        A      NaN  2001      0   \n",
       "\n",
       "  RECINHSE  ... TARGET_D HPHONE_D RFA_2R RFA_2F RFA_2A MDMAUD_R  MDMAUD_F  \\\n",
       "0      NaN  ...      0.0        0      L      4      E        X         X   \n",
       "1      NaN  ...      0.0        0      L      2      G        X         X   \n",
       "2      NaN  ...      0.0        1      L      4      E        X         X   \n",
       "3      NaN  ...      0.0        1      L      4      E        X         X   \n",
       "4        X  ...      0.0        1      L      2      F        X         X   \n",
       "\n",
       "  MDMAUD_A CLUSTER2 GEOCODE2  \n",
       "0        X     39.0        C  \n",
       "1        X      1.0        A  \n",
       "2        X     60.0        C  \n",
       "3        X     41.0        C  \n",
       "4        X     26.0        A  \n",
       "\n",
       "[5 rows x 411 columns]"
      ]
     },
     "execution_count": 17,
     "metadata": {},
     "output_type": "execute_result"
    }
   ],
   "source": [
    "data.head()"
   ]
  },
  {
   "cell_type": "code",
   "execution_count": 18,
   "id": "e047bafc",
   "metadata": {},
   "outputs": [
    {
     "data": {
      "text/html": [
       "<div>\n",
       "<style scoped>\n",
       "    .dataframe tbody tr th:only-of-type {\n",
       "        vertical-align: middle;\n",
       "    }\n",
       "\n",
       "    .dataframe tbody tr th {\n",
       "        vertical-align: top;\n",
       "    }\n",
       "\n",
       "    .dataframe thead th {\n",
       "        text-align: right;\n",
       "    }\n",
       "</style>\n",
       "<table border=\"1\" class=\"dataframe\">\n",
       "  <thead>\n",
       "    <tr style=\"text-align: right;\">\n",
       "      <th></th>\n",
       "      <th>column_name</th>\n",
       "      <th>nulls_percentage</th>\n",
       "    </tr>\n",
       "  </thead>\n",
       "  <tbody>\n",
       "    <tr>\n",
       "      <th>0</th>\n",
       "      <td>ODATEDW</td>\n",
       "      <td>0.000000</td>\n",
       "    </tr>\n",
       "    <tr>\n",
       "      <th>1</th>\n",
       "      <td>OSOURCE</td>\n",
       "      <td>0.009726</td>\n",
       "    </tr>\n",
       "    <tr>\n",
       "      <th>2</th>\n",
       "      <td>TCODE</td>\n",
       "      <td>0.000000</td>\n",
       "    </tr>\n",
       "    <tr>\n",
       "      <th>3</th>\n",
       "      <td>STATE</td>\n",
       "      <td>0.000000</td>\n",
       "    </tr>\n",
       "    <tr>\n",
       "      <th>4</th>\n",
       "      <td>ZIP</td>\n",
       "      <td>0.000000</td>\n",
       "    </tr>\n",
       "  </tbody>\n",
       "</table>\n",
       "</div>"
      ],
      "text/plain": [
       "  column_name  nulls_percentage\n",
       "0     ODATEDW          0.000000\n",
       "1     OSOURCE          0.009726\n",
       "2       TCODE          0.000000\n",
       "3       STATE          0.000000\n",
       "4         ZIP          0.000000"
      ]
     },
     "execution_count": 18,
     "metadata": {},
     "output_type": "execute_result"
    }
   ],
   "source": [
    "nulls_percent_df_2 = pd.DataFrame(data.isna().sum()/len(data)).reset_index()\n",
    "nulls_percent_df_2.columns = ['column_name', 'nulls_percentage']\n",
    "nulls_percent_df_2.head()"
   ]
  },
  {
   "cell_type": "code",
   "execution_count": 19,
   "id": "265b9e7b",
   "metadata": {},
   "outputs": [
    {
     "name": "stdout",
     "output_type": "stream",
     "text": [
      "47\n"
     ]
    }
   ],
   "source": [
    "columns_above_threshold_2 = nulls_percent_df_2[nulls_percent_df_2['nulls_percentage']>0.25]\n",
    "print(len(columns_above_threshold_2['column_name']))"
   ]
  },
  {
   "cell_type": "code",
   "execution_count": 20,
   "id": "b668b88e",
   "metadata": {},
   "outputs": [
    {
     "name": "stdout",
     "output_type": "stream",
     "text": [
      "['PVASTATE', 'RECINHSE', 'RECP3', 'RECPGVG', 'RECSWEEP', 'AGEFLAG', 'CHILD03', 'CHILD07', 'CHILD12', 'CHILD18', 'WEALTH1', 'SOLP3', 'SOLIH', 'MAJOR', 'WEALTH2', 'GEOCODE', 'COLLECT1', 'VETERANS', 'BIBLE', 'CATLG', 'HOMEE', 'PETS', 'CDPLAY', 'STEREO', 'PCOWNERS', 'PHOTO', 'CRAFTS', 'FISHER', 'GARDENIN', 'BOATS', 'WALKER', 'KIDSTUFF', 'CARDS', 'PLATES', 'LIFESRC', 'PEPSTRFL', 'RFA_5', 'RFA_10', 'RFA_13', 'RFA_15', 'RFA_17', 'RFA_19', 'RFA_20', 'RFA_21', 'RFA_22', 'RFA_23', 'RFA_24']\n"
     ]
    }
   ],
   "source": [
    "drop_columns_list_2 = list(columns_above_threshold_2['column_name'])\n",
    "print(drop_columns_list_2)"
   ]
  },
  {
   "cell_type": "code",
   "execution_count": 21,
   "id": "b9c16ca6",
   "metadata": {},
   "outputs": [],
   "source": [
    "cols_2 = ['WEALTH1', 'WEALTH2', 'VETERANS', 'SOLIH']\n",
    "for item in cols_2:\n",
    "    drop_columns_list_2.remove(item) "
   ]
  },
  {
   "cell_type": "code",
   "execution_count": 22,
   "id": "2265ae1d",
   "metadata": {},
   "outputs": [
    {
     "data": {
      "text/plain": [
       "(95412, 368)"
      ]
     },
     "execution_count": 22,
     "metadata": {},
     "output_type": "execute_result"
    }
   ],
   "source": [
    "data = data.drop(columns=drop_columns_list_2)\n",
    "data.shape"
   ]
  },
  {
   "cell_type": "code",
   "execution_count": 23,
   "id": "34260088",
   "metadata": {},
   "outputs": [
    {
     "data": {
      "text/html": [
       "<div>\n",
       "<style scoped>\n",
       "    .dataframe tbody tr th:only-of-type {\n",
       "        vertical-align: middle;\n",
       "    }\n",
       "\n",
       "    .dataframe tbody tr th {\n",
       "        vertical-align: top;\n",
       "    }\n",
       "\n",
       "    .dataframe thead th {\n",
       "        text-align: right;\n",
       "    }\n",
       "</style>\n",
       "<table border=\"1\" class=\"dataframe\">\n",
       "  <thead>\n",
       "    <tr style=\"text-align: right;\">\n",
       "      <th></th>\n",
       "      <th>ODATEDW</th>\n",
       "      <th>OSOURCE</th>\n",
       "      <th>TCODE</th>\n",
       "      <th>STATE</th>\n",
       "      <th>ZIP</th>\n",
       "      <th>MAILCODE</th>\n",
       "      <th>DOB</th>\n",
       "      <th>NOEXCH</th>\n",
       "      <th>MDMAUD</th>\n",
       "      <th>DOMAIN</th>\n",
       "      <th>...</th>\n",
       "      <th>TARGET_D</th>\n",
       "      <th>HPHONE_D</th>\n",
       "      <th>RFA_2R</th>\n",
       "      <th>RFA_2F</th>\n",
       "      <th>RFA_2A</th>\n",
       "      <th>MDMAUD_R</th>\n",
       "      <th>MDMAUD_F</th>\n",
       "      <th>MDMAUD_A</th>\n",
       "      <th>CLUSTER2</th>\n",
       "      <th>GEOCODE2</th>\n",
       "    </tr>\n",
       "  </thead>\n",
       "  <tbody>\n",
       "    <tr>\n",
       "      <th>0</th>\n",
       "      <td>8901</td>\n",
       "      <td>GRI</td>\n",
       "      <td>0</td>\n",
       "      <td>IL</td>\n",
       "      <td>61081</td>\n",
       "      <td>A</td>\n",
       "      <td>3712</td>\n",
       "      <td>0</td>\n",
       "      <td>XXXX</td>\n",
       "      <td>T2</td>\n",
       "      <td>...</td>\n",
       "      <td>0.0</td>\n",
       "      <td>0</td>\n",
       "      <td>L</td>\n",
       "      <td>4</td>\n",
       "      <td>E</td>\n",
       "      <td>X</td>\n",
       "      <td>X</td>\n",
       "      <td>X</td>\n",
       "      <td>39.0</td>\n",
       "      <td>C</td>\n",
       "    </tr>\n",
       "    <tr>\n",
       "      <th>1</th>\n",
       "      <td>9401</td>\n",
       "      <td>BOA</td>\n",
       "      <td>1</td>\n",
       "      <td>CA</td>\n",
       "      <td>91326</td>\n",
       "      <td>A</td>\n",
       "      <td>5202</td>\n",
       "      <td>0</td>\n",
       "      <td>XXXX</td>\n",
       "      <td>S1</td>\n",
       "      <td>...</td>\n",
       "      <td>0.0</td>\n",
       "      <td>0</td>\n",
       "      <td>L</td>\n",
       "      <td>2</td>\n",
       "      <td>G</td>\n",
       "      <td>X</td>\n",
       "      <td>X</td>\n",
       "      <td>X</td>\n",
       "      <td>1.0</td>\n",
       "      <td>A</td>\n",
       "    </tr>\n",
       "    <tr>\n",
       "      <th>2</th>\n",
       "      <td>9001</td>\n",
       "      <td>AMH</td>\n",
       "      <td>1</td>\n",
       "      <td>NC</td>\n",
       "      <td>27017</td>\n",
       "      <td>A</td>\n",
       "      <td>0</td>\n",
       "      <td>0</td>\n",
       "      <td>XXXX</td>\n",
       "      <td>R2</td>\n",
       "      <td>...</td>\n",
       "      <td>0.0</td>\n",
       "      <td>1</td>\n",
       "      <td>L</td>\n",
       "      <td>4</td>\n",
       "      <td>E</td>\n",
       "      <td>X</td>\n",
       "      <td>X</td>\n",
       "      <td>X</td>\n",
       "      <td>60.0</td>\n",
       "      <td>C</td>\n",
       "    </tr>\n",
       "    <tr>\n",
       "      <th>3</th>\n",
       "      <td>8701</td>\n",
       "      <td>BRY</td>\n",
       "      <td>0</td>\n",
       "      <td>CA</td>\n",
       "      <td>95953</td>\n",
       "      <td>A</td>\n",
       "      <td>2801</td>\n",
       "      <td>0</td>\n",
       "      <td>XXXX</td>\n",
       "      <td>R2</td>\n",
       "      <td>...</td>\n",
       "      <td>0.0</td>\n",
       "      <td>1</td>\n",
       "      <td>L</td>\n",
       "      <td>4</td>\n",
       "      <td>E</td>\n",
       "      <td>X</td>\n",
       "      <td>X</td>\n",
       "      <td>X</td>\n",
       "      <td>41.0</td>\n",
       "      <td>C</td>\n",
       "    </tr>\n",
       "    <tr>\n",
       "      <th>4</th>\n",
       "      <td>8601</td>\n",
       "      <td>NaN</td>\n",
       "      <td>0</td>\n",
       "      <td>FL</td>\n",
       "      <td>33176</td>\n",
       "      <td>A</td>\n",
       "      <td>2001</td>\n",
       "      <td>0</td>\n",
       "      <td>XXXX</td>\n",
       "      <td>S2</td>\n",
       "      <td>...</td>\n",
       "      <td>0.0</td>\n",
       "      <td>1</td>\n",
       "      <td>L</td>\n",
       "      <td>2</td>\n",
       "      <td>F</td>\n",
       "      <td>X</td>\n",
       "      <td>X</td>\n",
       "      <td>X</td>\n",
       "      <td>26.0</td>\n",
       "      <td>A</td>\n",
       "    </tr>\n",
       "  </tbody>\n",
       "</table>\n",
       "<p>5 rows × 368 columns</p>\n",
       "</div>"
      ],
      "text/plain": [
       "   ODATEDW OSOURCE  TCODE STATE    ZIP MAILCODE   DOB NOEXCH MDMAUD DOMAIN  \\\n",
       "0     8901     GRI      0    IL  61081        A  3712      0   XXXX     T2   \n",
       "1     9401     BOA      1    CA  91326        A  5202      0   XXXX     S1   \n",
       "2     9001     AMH      1    NC  27017        A     0      0   XXXX     R2   \n",
       "3     8701     BRY      0    CA  95953        A  2801      0   XXXX     R2   \n",
       "4     8601     NaN      0    FL  33176        A  2001      0   XXXX     S2   \n",
       "\n",
       "   ... TARGET_D  HPHONE_D RFA_2R  RFA_2F RFA_2A  MDMAUD_R  MDMAUD_F MDMAUD_A  \\\n",
       "0  ...      0.0         0      L       4      E         X         X        X   \n",
       "1  ...      0.0         0      L       2      G         X         X        X   \n",
       "2  ...      0.0         1      L       4      E         X         X        X   \n",
       "3  ...      0.0         1      L       4      E         X         X        X   \n",
       "4  ...      0.0         1      L       2      F         X         X        X   \n",
       "\n",
       "   CLUSTER2  GEOCODE2  \n",
       "0      39.0         C  \n",
       "1       1.0         A  \n",
       "2      60.0         C  \n",
       "3      41.0         C  \n",
       "4      26.0         A  \n",
       "\n",
       "[5 rows x 368 columns]"
      ]
     },
     "execution_count": 23,
     "metadata": {},
     "output_type": "execute_result"
    }
   ],
   "source": [
    "data.head()"
   ]
  },
  {
   "cell_type": "code",
   "execution_count": 24,
   "id": "9a78a606",
   "metadata": {},
   "outputs": [
    {
     "data": {
      "text/html": [
       "<div>\n",
       "<style scoped>\n",
       "    .dataframe tbody tr th:only-of-type {\n",
       "        vertical-align: middle;\n",
       "    }\n",
       "\n",
       "    .dataframe tbody tr th {\n",
       "        vertical-align: top;\n",
       "    }\n",
       "\n",
       "    .dataframe thead th {\n",
       "        text-align: right;\n",
       "    }\n",
       "</style>\n",
       "<table border=\"1\" class=\"dataframe\">\n",
       "  <thead>\n",
       "    <tr style=\"text-align: right;\">\n",
       "      <th></th>\n",
       "      <th>TARGET_B</th>\n",
       "      <th>TARGET_D</th>\n",
       "    </tr>\n",
       "  </thead>\n",
       "  <tbody>\n",
       "    <tr>\n",
       "      <th>0</th>\n",
       "      <td>0</td>\n",
       "      <td>0.0</td>\n",
       "    </tr>\n",
       "    <tr>\n",
       "      <th>1</th>\n",
       "      <td>0</td>\n",
       "      <td>0.0</td>\n",
       "    </tr>\n",
       "    <tr>\n",
       "      <th>2</th>\n",
       "      <td>0</td>\n",
       "      <td>0.0</td>\n",
       "    </tr>\n",
       "    <tr>\n",
       "      <th>3</th>\n",
       "      <td>0</td>\n",
       "      <td>0.0</td>\n",
       "    </tr>\n",
       "    <tr>\n",
       "      <th>4</th>\n",
       "      <td>0</td>\n",
       "      <td>0.0</td>\n",
       "    </tr>\n",
       "  </tbody>\n",
       "</table>\n",
       "</div>"
      ],
      "text/plain": [
       "   TARGET_B  TARGET_D\n",
       "0         0       0.0\n",
       "1         0       0.0\n",
       "2         0       0.0\n",
       "3         0       0.0\n",
       "4         0       0.0"
      ]
     },
     "execution_count": 24,
     "metadata": {},
     "output_type": "execute_result"
    }
   ],
   "source": [
    "Y = data[['TARGET_B', 'TARGET_D']]\n",
    "Y.head()"
   ]
  },
  {
   "cell_type": "code",
   "execution_count": 25,
   "id": "2531c455",
   "metadata": {},
   "outputs": [
    {
     "data": {
      "text/html": [
       "<div>\n",
       "<style scoped>\n",
       "    .dataframe tbody tr th:only-of-type {\n",
       "        vertical-align: middle;\n",
       "    }\n",
       "\n",
       "    .dataframe tbody tr th {\n",
       "        vertical-align: top;\n",
       "    }\n",
       "\n",
       "    .dataframe thead th {\n",
       "        text-align: right;\n",
       "    }\n",
       "</style>\n",
       "<table border=\"1\" class=\"dataframe\">\n",
       "  <thead>\n",
       "    <tr style=\"text-align: right;\">\n",
       "      <th></th>\n",
       "      <th>ODATEDW</th>\n",
       "      <th>TCODE</th>\n",
       "      <th>DOB</th>\n",
       "      <th>AGE</th>\n",
       "      <th>INCOME</th>\n",
       "      <th>WEALTH1</th>\n",
       "      <th>HIT</th>\n",
       "      <th>MALEMILI</th>\n",
       "      <th>MALEVET</th>\n",
       "      <th>VIETVETS</th>\n",
       "      <th>...</th>\n",
       "      <th>LASTGIFT</th>\n",
       "      <th>LASTDATE</th>\n",
       "      <th>FISTDATE</th>\n",
       "      <th>NEXTDATE</th>\n",
       "      <th>TIMELAG</th>\n",
       "      <th>AVGGIFT</th>\n",
       "      <th>CONTROLN</th>\n",
       "      <th>HPHONE_D</th>\n",
       "      <th>RFA_2F</th>\n",
       "      <th>CLUSTER2</th>\n",
       "    </tr>\n",
       "  </thead>\n",
       "  <tbody>\n",
       "    <tr>\n",
       "      <th>0</th>\n",
       "      <td>8901</td>\n",
       "      <td>0</td>\n",
       "      <td>3712</td>\n",
       "      <td>60.0</td>\n",
       "      <td>NaN</td>\n",
       "      <td>NaN</td>\n",
       "      <td>0</td>\n",
       "      <td>0</td>\n",
       "      <td>39</td>\n",
       "      <td>34</td>\n",
       "      <td>...</td>\n",
       "      <td>10.0</td>\n",
       "      <td>9512</td>\n",
       "      <td>8911</td>\n",
       "      <td>9003.0</td>\n",
       "      <td>4.0</td>\n",
       "      <td>7.741935</td>\n",
       "      <td>95515</td>\n",
       "      <td>0</td>\n",
       "      <td>4</td>\n",
       "      <td>39.0</td>\n",
       "    </tr>\n",
       "    <tr>\n",
       "      <th>1</th>\n",
       "      <td>9401</td>\n",
       "      <td>1</td>\n",
       "      <td>5202</td>\n",
       "      <td>46.0</td>\n",
       "      <td>6.0</td>\n",
       "      <td>9.0</td>\n",
       "      <td>16</td>\n",
       "      <td>0</td>\n",
       "      <td>15</td>\n",
       "      <td>55</td>\n",
       "      <td>...</td>\n",
       "      <td>25.0</td>\n",
       "      <td>9512</td>\n",
       "      <td>9310</td>\n",
       "      <td>9504.0</td>\n",
       "      <td>18.0</td>\n",
       "      <td>15.666667</td>\n",
       "      <td>148535</td>\n",
       "      <td>0</td>\n",
       "      <td>2</td>\n",
       "      <td>1.0</td>\n",
       "    </tr>\n",
       "    <tr>\n",
       "      <th>2</th>\n",
       "      <td>9001</td>\n",
       "      <td>1</td>\n",
       "      <td>0</td>\n",
       "      <td>NaN</td>\n",
       "      <td>3.0</td>\n",
       "      <td>1.0</td>\n",
       "      <td>2</td>\n",
       "      <td>0</td>\n",
       "      <td>20</td>\n",
       "      <td>29</td>\n",
       "      <td>...</td>\n",
       "      <td>5.0</td>\n",
       "      <td>9512</td>\n",
       "      <td>9001</td>\n",
       "      <td>9101.0</td>\n",
       "      <td>12.0</td>\n",
       "      <td>7.481481</td>\n",
       "      <td>15078</td>\n",
       "      <td>1</td>\n",
       "      <td>4</td>\n",
       "      <td>60.0</td>\n",
       "    </tr>\n",
       "    <tr>\n",
       "      <th>3</th>\n",
       "      <td>8701</td>\n",
       "      <td>0</td>\n",
       "      <td>2801</td>\n",
       "      <td>70.0</td>\n",
       "      <td>1.0</td>\n",
       "      <td>4.0</td>\n",
       "      <td>2</td>\n",
       "      <td>0</td>\n",
       "      <td>23</td>\n",
       "      <td>14</td>\n",
       "      <td>...</td>\n",
       "      <td>10.0</td>\n",
       "      <td>9512</td>\n",
       "      <td>8702</td>\n",
       "      <td>8711.0</td>\n",
       "      <td>9.0</td>\n",
       "      <td>6.812500</td>\n",
       "      <td>172556</td>\n",
       "      <td>1</td>\n",
       "      <td>4</td>\n",
       "      <td>41.0</td>\n",
       "    </tr>\n",
       "    <tr>\n",
       "      <th>4</th>\n",
       "      <td>8601</td>\n",
       "      <td>0</td>\n",
       "      <td>2001</td>\n",
       "      <td>78.0</td>\n",
       "      <td>3.0</td>\n",
       "      <td>2.0</td>\n",
       "      <td>60</td>\n",
       "      <td>1</td>\n",
       "      <td>28</td>\n",
       "      <td>9</td>\n",
       "      <td>...</td>\n",
       "      <td>15.0</td>\n",
       "      <td>9601</td>\n",
       "      <td>7903</td>\n",
       "      <td>8005.0</td>\n",
       "      <td>14.0</td>\n",
       "      <td>6.864865</td>\n",
       "      <td>7112</td>\n",
       "      <td>1</td>\n",
       "      <td>2</td>\n",
       "      <td>26.0</td>\n",
       "    </tr>\n",
       "  </tbody>\n",
       "</table>\n",
       "<p>5 rows × 335 columns</p>\n",
       "</div>"
      ],
      "text/plain": [
       "   ODATEDW  TCODE   DOB   AGE  INCOME  WEALTH1  HIT  MALEMILI  MALEVET  \\\n",
       "0     8901      0  3712  60.0     NaN      NaN    0         0       39   \n",
       "1     9401      1  5202  46.0     6.0      9.0   16         0       15   \n",
       "2     9001      1     0   NaN     3.0      1.0    2         0       20   \n",
       "3     8701      0  2801  70.0     1.0      4.0    2         0       23   \n",
       "4     8601      0  2001  78.0     3.0      2.0   60         1       28   \n",
       "\n",
       "   VIETVETS  ...  LASTGIFT  LASTDATE  FISTDATE  NEXTDATE  TIMELAG    AVGGIFT  \\\n",
       "0        34  ...      10.0      9512      8911    9003.0      4.0   7.741935   \n",
       "1        55  ...      25.0      9512      9310    9504.0     18.0  15.666667   \n",
       "2        29  ...       5.0      9512      9001    9101.0     12.0   7.481481   \n",
       "3        14  ...      10.0      9512      8702    8711.0      9.0   6.812500   \n",
       "4         9  ...      15.0      9601      7903    8005.0     14.0   6.864865   \n",
       "\n",
       "   CONTROLN  HPHONE_D  RFA_2F  CLUSTER2  \n",
       "0     95515         0       4      39.0  \n",
       "1    148535         0       2       1.0  \n",
       "2     15078         1       4      60.0  \n",
       "3    172556         1       4      41.0  \n",
       "4      7112         1       2      26.0  \n",
       "\n",
       "[5 rows x 335 columns]"
      ]
     },
     "execution_count": 25,
     "metadata": {},
     "output_type": "execute_result"
    }
   ],
   "source": [
    "numerical = data.select_dtypes(np.number)\n",
    "numerical = numerical.drop(columns = ['TARGET_B', 'TARGET_D'])\n",
    "numerical.head()"
   ]
  },
  {
   "cell_type": "code",
   "execution_count": 26,
   "id": "9b66bc8f",
   "metadata": {},
   "outputs": [
    {
     "data": {
      "text/html": [
       "<div>\n",
       "<style scoped>\n",
       "    .dataframe tbody tr th:only-of-type {\n",
       "        vertical-align: middle;\n",
       "    }\n",
       "\n",
       "    .dataframe tbody tr th {\n",
       "        vertical-align: top;\n",
       "    }\n",
       "\n",
       "    .dataframe thead th {\n",
       "        text-align: right;\n",
       "    }\n",
       "</style>\n",
       "<table border=\"1\" class=\"dataframe\">\n",
       "  <thead>\n",
       "    <tr style=\"text-align: right;\">\n",
       "      <th></th>\n",
       "      <th>OSOURCE</th>\n",
       "      <th>STATE</th>\n",
       "      <th>ZIP</th>\n",
       "      <th>MAILCODE</th>\n",
       "      <th>NOEXCH</th>\n",
       "      <th>MDMAUD</th>\n",
       "      <th>DOMAIN</th>\n",
       "      <th>CLUSTER</th>\n",
       "      <th>HOMEOWNR</th>\n",
       "      <th>GENDER</th>\n",
       "      <th>...</th>\n",
       "      <th>RFA_12</th>\n",
       "      <th>RFA_14</th>\n",
       "      <th>RFA_16</th>\n",
       "      <th>RFA_18</th>\n",
       "      <th>RFA_2R</th>\n",
       "      <th>RFA_2A</th>\n",
       "      <th>MDMAUD_R</th>\n",
       "      <th>MDMAUD_F</th>\n",
       "      <th>MDMAUD_A</th>\n",
       "      <th>GEOCODE2</th>\n",
       "    </tr>\n",
       "  </thead>\n",
       "  <tbody>\n",
       "    <tr>\n",
       "      <th>0</th>\n",
       "      <td>GRI</td>\n",
       "      <td>IL</td>\n",
       "      <td>61081</td>\n",
       "      <td>A</td>\n",
       "      <td>0</td>\n",
       "      <td>XXXX</td>\n",
       "      <td>T2</td>\n",
       "      <td>36</td>\n",
       "      <td>NaN</td>\n",
       "      <td>F</td>\n",
       "      <td>...</td>\n",
       "      <td>S4E</td>\n",
       "      <td>S4E</td>\n",
       "      <td>S4E</td>\n",
       "      <td>S4E</td>\n",
       "      <td>L</td>\n",
       "      <td>E</td>\n",
       "      <td>X</td>\n",
       "      <td>X</td>\n",
       "      <td>X</td>\n",
       "      <td>C</td>\n",
       "    </tr>\n",
       "    <tr>\n",
       "      <th>1</th>\n",
       "      <td>BOA</td>\n",
       "      <td>CA</td>\n",
       "      <td>91326</td>\n",
       "      <td>A</td>\n",
       "      <td>0</td>\n",
       "      <td>XXXX</td>\n",
       "      <td>S1</td>\n",
       "      <td>14</td>\n",
       "      <td>H</td>\n",
       "      <td>M</td>\n",
       "      <td>...</td>\n",
       "      <td>A1E</td>\n",
       "      <td>NaN</td>\n",
       "      <td>L1E</td>\n",
       "      <td>NaN</td>\n",
       "      <td>L</td>\n",
       "      <td>G</td>\n",
       "      <td>X</td>\n",
       "      <td>X</td>\n",
       "      <td>X</td>\n",
       "      <td>A</td>\n",
       "    </tr>\n",
       "    <tr>\n",
       "      <th>2</th>\n",
       "      <td>AMH</td>\n",
       "      <td>NC</td>\n",
       "      <td>27017</td>\n",
       "      <td>A</td>\n",
       "      <td>0</td>\n",
       "      <td>XXXX</td>\n",
       "      <td>R2</td>\n",
       "      <td>43</td>\n",
       "      <td>U</td>\n",
       "      <td>M</td>\n",
       "      <td>...</td>\n",
       "      <td>S4F</td>\n",
       "      <td>S4F</td>\n",
       "      <td>S4F</td>\n",
       "      <td>S4D</td>\n",
       "      <td>L</td>\n",
       "      <td>E</td>\n",
       "      <td>X</td>\n",
       "      <td>X</td>\n",
       "      <td>X</td>\n",
       "      <td>C</td>\n",
       "    </tr>\n",
       "    <tr>\n",
       "      <th>3</th>\n",
       "      <td>BRY</td>\n",
       "      <td>CA</td>\n",
       "      <td>95953</td>\n",
       "      <td>A</td>\n",
       "      <td>0</td>\n",
       "      <td>XXXX</td>\n",
       "      <td>R2</td>\n",
       "      <td>44</td>\n",
       "      <td>U</td>\n",
       "      <td>F</td>\n",
       "      <td>...</td>\n",
       "      <td>S4E</td>\n",
       "      <td>S4E</td>\n",
       "      <td>S4E</td>\n",
       "      <td>S2D</td>\n",
       "      <td>L</td>\n",
       "      <td>E</td>\n",
       "      <td>X</td>\n",
       "      <td>X</td>\n",
       "      <td>X</td>\n",
       "      <td>C</td>\n",
       "    </tr>\n",
       "    <tr>\n",
       "      <th>4</th>\n",
       "      <td>NaN</td>\n",
       "      <td>FL</td>\n",
       "      <td>33176</td>\n",
       "      <td>A</td>\n",
       "      <td>0</td>\n",
       "      <td>XXXX</td>\n",
       "      <td>S2</td>\n",
       "      <td>16</td>\n",
       "      <td>H</td>\n",
       "      <td>F</td>\n",
       "      <td>...</td>\n",
       "      <td>A1E</td>\n",
       "      <td>L3D</td>\n",
       "      <td>L3D</td>\n",
       "      <td>A2D</td>\n",
       "      <td>L</td>\n",
       "      <td>F</td>\n",
       "      <td>X</td>\n",
       "      <td>X</td>\n",
       "      <td>X</td>\n",
       "      <td>A</td>\n",
       "    </tr>\n",
       "  </tbody>\n",
       "</table>\n",
       "<p>5 rows × 31 columns</p>\n",
       "</div>"
      ],
      "text/plain": [
       "  OSOURCE STATE    ZIP MAILCODE NOEXCH MDMAUD DOMAIN CLUSTER HOMEOWNR GENDER  \\\n",
       "0     GRI    IL  61081        A      0   XXXX     T2      36      NaN      F   \n",
       "1     BOA    CA  91326        A      0   XXXX     S1      14        H      M   \n",
       "2     AMH    NC  27017        A      0   XXXX     R2      43        U      M   \n",
       "3     BRY    CA  95953        A      0   XXXX     R2      44        U      F   \n",
       "4     NaN    FL  33176        A      0   XXXX     S2      16        H      F   \n",
       "\n",
       "   ... RFA_12 RFA_14 RFA_16 RFA_18 RFA_2R RFA_2A MDMAUD_R MDMAUD_F MDMAUD_A  \\\n",
       "0  ...    S4E    S4E    S4E    S4E      L      E        X        X        X   \n",
       "1  ...    A1E    NaN    L1E    NaN      L      G        X        X        X   \n",
       "2  ...    S4F    S4F    S4F    S4D      L      E        X        X        X   \n",
       "3  ...    S4E    S4E    S4E    S2D      L      E        X        X        X   \n",
       "4  ...    A1E    L3D    L3D    A2D      L      F        X        X        X   \n",
       "\n",
       "  GEOCODE2  \n",
       "0        C  \n",
       "1        A  \n",
       "2        C  \n",
       "3        C  \n",
       "4        A  \n",
       "\n",
       "[5 rows x 31 columns]"
      ]
     },
     "execution_count": 26,
     "metadata": {},
     "output_type": "execute_result"
    }
   ],
   "source": [
    "categorical = data.select_dtypes(np.object)\n",
    "categorical.head()"
   ]
  },
  {
   "cell_type": "code",
   "execution_count": 27,
   "id": "123dd8aa",
   "metadata": {},
   "outputs": [
    {
     "data": {
      "text/plain": [
       "OSOURCE       928\n",
       "STATE           0\n",
       "ZIP             0\n",
       "MAILCODE        0\n",
       "NOEXCH          7\n",
       "MDMAUD          0\n",
       "DOMAIN       2316\n",
       "CLUSTER      2316\n",
       "HOMEOWNR    22228\n",
       "GENDER       2957\n",
       "DATASRCE    21280\n",
       "SOLIH       89212\n",
       "VETERANS    84986\n",
       "RFA_2           0\n",
       "RFA_3        1950\n",
       "RFA_4        2312\n",
       "RFA_6        3557\n",
       "RFA_7        8874\n",
       "RFA_8        3511\n",
       "RFA_9       11245\n",
       "RFA_11      10422\n",
       "RFA_12       8923\n",
       "RFA_14      18867\n",
       "RFA_16      20417\n",
       "RFA_18      21263\n",
       "RFA_2R          0\n",
       "RFA_2A          0\n",
       "MDMAUD_R        0\n",
       "MDMAUD_F        0\n",
       "MDMAUD_A        0\n",
       "GEOCODE2      319\n",
       "dtype: int64"
      ]
     },
     "execution_count": 27,
     "metadata": {},
     "output_type": "execute_result"
    }
   ],
   "source": [
    "categorical.isna().sum()"
   ]
  },
  {
   "cell_type": "code",
   "execution_count": 28,
   "id": "ff18f02f",
   "metadata": {},
   "outputs": [],
   "source": [
    "df = pd.DataFrame(categorical['STATE'].value_counts()).reset_index()\n",
    "df.columns = ['state', 'count']\n",
    "other_states = list(df[df['count']<2500]['state'])\n",
    "\n",
    "def clean_state(x):\n",
    "    if x in other_states:\n",
    "        return 'other'\n",
    "    else:\n",
    "        return x\n",
    "categorical['STATE'] = list(map(clean_state, categorical['STATE']))"
   ]
  },
  {
   "cell_type": "code",
   "execution_count": 29,
   "id": "c9d0ff99",
   "metadata": {},
   "outputs": [
    {
     "data": {
      "text/plain": [
       "other    30457\n",
       "CA       17343\n",
       "FL        8376\n",
       "TX        7535\n",
       "IL        6420\n",
       "MI        5654\n",
       "NC        4160\n",
       "WA        3577\n",
       "GA        3403\n",
       "IN        2980\n",
       "WI        2795\n",
       "MO        2712\n",
       "Name: STATE, dtype: int64"
      ]
     },
     "execution_count": 29,
     "metadata": {},
     "output_type": "execute_result"
    }
   ],
   "source": [
    "categorical['STATE'].value_counts()"
   ]
  },
  {
   "cell_type": "code",
   "execution_count": 30,
   "id": "92e7f36c",
   "metadata": {},
   "outputs": [
    {
     "data": {
      "text/plain": [
       "R2     13623\n",
       "T2     12369\n",
       "S1     11503\n",
       "S2      8530\n",
       "C2      8264\n",
       "C1      6145\n",
       "C3      5280\n",
       "T1      4982\n",
       "R3      4809\n",
       "U1      4510\n",
       "U2      3254\n",
       "U3      2598\n",
       "NaN     2316\n",
       "T3      2176\n",
       "S3      1891\n",
       "U4      1804\n",
       "R1      1358\n",
       "Name: DOMAIN, dtype: int64"
      ]
     },
     "execution_count": 30,
     "metadata": {},
     "output_type": "execute_result"
    }
   ],
   "source": [
    "categorical['DOMAIN'].value_counts(dropna=False)"
   ]
  },
  {
   "cell_type": "code",
   "execution_count": 31,
   "id": "9bab49f6",
   "metadata": {},
   "outputs": [],
   "source": [
    "categorical['DOMAIN'] = categorical['DOMAIN'].fillna('C4')"
   ]
  },
  {
   "cell_type": "code",
   "execution_count": 32,
   "id": "cc33176a",
   "metadata": {},
   "outputs": [],
   "source": [
    "def domain_average (x):\n",
    "    if x == 'U3':\n",
    "        return 'U2'\n",
    "    elif x== 'U4':\n",
    "        return'U3'\n",
    "    elif x == 'C3':\n",
    "        return 'C2'\n",
    "    elif x == 'C4':\n",
    "        return 'C3'\n",
    "    else:\n",
    "        return x"
   ]
  },
  {
   "cell_type": "code",
   "execution_count": 33,
   "id": "f42337be",
   "metadata": {},
   "outputs": [],
   "source": [
    "categorical['DOMAIN'] = categorical['DOMAIN'].apply(lambda x: domain_average(x))"
   ]
  },
  {
   "cell_type": "code",
   "execution_count": 34,
   "id": "d8f24fe8",
   "metadata": {},
   "outputs": [
    {
     "data": {
      "text/plain": [
       "R2    13623\n",
       "C2    13544\n",
       "T2    12369\n",
       "S1    11503\n",
       "S2     8530\n",
       "C1     6145\n",
       "U2     5852\n",
       "T1     4982\n",
       "R3     4809\n",
       "U1     4510\n",
       "C3     2316\n",
       "T3     2176\n",
       "S3     1891\n",
       "U3     1804\n",
       "R1     1358\n",
       "Name: DOMAIN, dtype: int64"
      ]
     },
     "execution_count": 34,
     "metadata": {},
     "output_type": "execute_result"
    }
   ],
   "source": [
    "categorical['DOMAIN'].value_counts()"
   ]
  },
  {
   "cell_type": "code",
   "execution_count": 35,
   "id": "d9ead09e",
   "metadata": {},
   "outputs": [],
   "source": [
    "categorical['DOMAIN_A'] = list(map(lambda x: x[0], categorical['DOMAIN']))\n",
    "categorical['DOMAIN_B'] = list(map(lambda x: x[1], categorical['DOMAIN']))"
   ]
  },
  {
   "cell_type": "code",
   "execution_count": 36,
   "id": "d68e2a44",
   "metadata": {},
   "outputs": [],
   "source": [
    "categorical = categorical.drop(columns=['DOMAIN'])"
   ]
  },
  {
   "cell_type": "code",
   "execution_count": 37,
   "id": "52c98c0d",
   "metadata": {},
   "outputs": [
    {
     "data": {
      "text/html": [
       "<div>\n",
       "<style scoped>\n",
       "    .dataframe tbody tr th:only-of-type {\n",
       "        vertical-align: middle;\n",
       "    }\n",
       "\n",
       "    .dataframe tbody tr th {\n",
       "        vertical-align: top;\n",
       "    }\n",
       "\n",
       "    .dataframe thead th {\n",
       "        text-align: right;\n",
       "    }\n",
       "</style>\n",
       "<table border=\"1\" class=\"dataframe\">\n",
       "  <thead>\n",
       "    <tr style=\"text-align: right;\">\n",
       "      <th></th>\n",
       "      <th>OSOURCE</th>\n",
       "      <th>STATE</th>\n",
       "      <th>ZIP</th>\n",
       "      <th>MAILCODE</th>\n",
       "      <th>NOEXCH</th>\n",
       "      <th>MDMAUD</th>\n",
       "      <th>CLUSTER</th>\n",
       "      <th>HOMEOWNR</th>\n",
       "      <th>GENDER</th>\n",
       "      <th>DATASRCE</th>\n",
       "      <th>...</th>\n",
       "      <th>RFA_16</th>\n",
       "      <th>RFA_18</th>\n",
       "      <th>RFA_2R</th>\n",
       "      <th>RFA_2A</th>\n",
       "      <th>MDMAUD_R</th>\n",
       "      <th>MDMAUD_F</th>\n",
       "      <th>MDMAUD_A</th>\n",
       "      <th>GEOCODE2</th>\n",
       "      <th>DOMAIN_A</th>\n",
       "      <th>DOMAIN_B</th>\n",
       "    </tr>\n",
       "  </thead>\n",
       "  <tbody>\n",
       "    <tr>\n",
       "      <th>0</th>\n",
       "      <td>GRI</td>\n",
       "      <td>IL</td>\n",
       "      <td>61081</td>\n",
       "      <td>A</td>\n",
       "      <td>0</td>\n",
       "      <td>XXXX</td>\n",
       "      <td>36</td>\n",
       "      <td>NaN</td>\n",
       "      <td>F</td>\n",
       "      <td>NaN</td>\n",
       "      <td>...</td>\n",
       "      <td>S4E</td>\n",
       "      <td>S4E</td>\n",
       "      <td>L</td>\n",
       "      <td>E</td>\n",
       "      <td>X</td>\n",
       "      <td>X</td>\n",
       "      <td>X</td>\n",
       "      <td>C</td>\n",
       "      <td>T</td>\n",
       "      <td>2</td>\n",
       "    </tr>\n",
       "    <tr>\n",
       "      <th>1</th>\n",
       "      <td>BOA</td>\n",
       "      <td>CA</td>\n",
       "      <td>91326</td>\n",
       "      <td>A</td>\n",
       "      <td>0</td>\n",
       "      <td>XXXX</td>\n",
       "      <td>14</td>\n",
       "      <td>H</td>\n",
       "      <td>M</td>\n",
       "      <td>3</td>\n",
       "      <td>...</td>\n",
       "      <td>L1E</td>\n",
       "      <td>NaN</td>\n",
       "      <td>L</td>\n",
       "      <td>G</td>\n",
       "      <td>X</td>\n",
       "      <td>X</td>\n",
       "      <td>X</td>\n",
       "      <td>A</td>\n",
       "      <td>S</td>\n",
       "      <td>1</td>\n",
       "    </tr>\n",
       "    <tr>\n",
       "      <th>2</th>\n",
       "      <td>AMH</td>\n",
       "      <td>NC</td>\n",
       "      <td>27017</td>\n",
       "      <td>A</td>\n",
       "      <td>0</td>\n",
       "      <td>XXXX</td>\n",
       "      <td>43</td>\n",
       "      <td>U</td>\n",
       "      <td>M</td>\n",
       "      <td>3</td>\n",
       "      <td>...</td>\n",
       "      <td>S4F</td>\n",
       "      <td>S4D</td>\n",
       "      <td>L</td>\n",
       "      <td>E</td>\n",
       "      <td>X</td>\n",
       "      <td>X</td>\n",
       "      <td>X</td>\n",
       "      <td>C</td>\n",
       "      <td>R</td>\n",
       "      <td>2</td>\n",
       "    </tr>\n",
       "    <tr>\n",
       "      <th>3</th>\n",
       "      <td>BRY</td>\n",
       "      <td>CA</td>\n",
       "      <td>95953</td>\n",
       "      <td>A</td>\n",
       "      <td>0</td>\n",
       "      <td>XXXX</td>\n",
       "      <td>44</td>\n",
       "      <td>U</td>\n",
       "      <td>F</td>\n",
       "      <td>3</td>\n",
       "      <td>...</td>\n",
       "      <td>S4E</td>\n",
       "      <td>S2D</td>\n",
       "      <td>L</td>\n",
       "      <td>E</td>\n",
       "      <td>X</td>\n",
       "      <td>X</td>\n",
       "      <td>X</td>\n",
       "      <td>C</td>\n",
       "      <td>R</td>\n",
       "      <td>2</td>\n",
       "    </tr>\n",
       "    <tr>\n",
       "      <th>4</th>\n",
       "      <td>NaN</td>\n",
       "      <td>FL</td>\n",
       "      <td>33176</td>\n",
       "      <td>A</td>\n",
       "      <td>0</td>\n",
       "      <td>XXXX</td>\n",
       "      <td>16</td>\n",
       "      <td>H</td>\n",
       "      <td>F</td>\n",
       "      <td>3</td>\n",
       "      <td>...</td>\n",
       "      <td>L3D</td>\n",
       "      <td>A2D</td>\n",
       "      <td>L</td>\n",
       "      <td>F</td>\n",
       "      <td>X</td>\n",
       "      <td>X</td>\n",
       "      <td>X</td>\n",
       "      <td>A</td>\n",
       "      <td>S</td>\n",
       "      <td>2</td>\n",
       "    </tr>\n",
       "  </tbody>\n",
       "</table>\n",
       "<p>5 rows × 32 columns</p>\n",
       "</div>"
      ],
      "text/plain": [
       "  OSOURCE STATE    ZIP MAILCODE NOEXCH MDMAUD CLUSTER HOMEOWNR GENDER  \\\n",
       "0     GRI    IL  61081        A      0   XXXX      36      NaN      F   \n",
       "1     BOA    CA  91326        A      0   XXXX      14        H      M   \n",
       "2     AMH    NC  27017        A      0   XXXX      43        U      M   \n",
       "3     BRY    CA  95953        A      0   XXXX      44        U      F   \n",
       "4     NaN    FL  33176        A      0   XXXX      16        H      F   \n",
       "\n",
       "  DATASRCE  ... RFA_16 RFA_18 RFA_2R RFA_2A MDMAUD_R MDMAUD_F MDMAUD_A  \\\n",
       "0      NaN  ...    S4E    S4E      L      E        X        X        X   \n",
       "1        3  ...    L1E    NaN      L      G        X        X        X   \n",
       "2        3  ...    S4F    S4D      L      E        X        X        X   \n",
       "3        3  ...    S4E    S2D      L      E        X        X        X   \n",
       "4        3  ...    L3D    A2D      L      F        X        X        X   \n",
       "\n",
       "  GEOCODE2 DOMAIN_A DOMAIN_B  \n",
       "0        C        T        2  \n",
       "1        A        S        1  \n",
       "2        C        R        2  \n",
       "3        C        R        2  \n",
       "4        A        S        2  \n",
       "\n",
       "[5 rows x 32 columns]"
      ]
     },
     "execution_count": 37,
     "metadata": {},
     "output_type": "execute_result"
    }
   ],
   "source": [
    "categorical.head()"
   ]
  },
  {
   "cell_type": "code",
   "execution_count": 38,
   "id": "d2527bb4",
   "metadata": {},
   "outputs": [
    {
     "data": {
      "text/plain": [
       "C    22005\n",
       "S    21924\n",
       "R    19790\n",
       "T    19527\n",
       "U    12166\n",
       "Name: DOMAIN_A, dtype: int64"
      ]
     },
     "execution_count": 38,
     "metadata": {},
     "output_type": "execute_result"
    }
   ],
   "source": [
    "categorical['DOMAIN_A'].value_counts()\n"
   ]
  },
  {
   "cell_type": "code",
   "execution_count": 39,
   "id": "77f0a568",
   "metadata": {},
   "outputs": [
    {
     "data": {
      "text/plain": [
       "2    53918\n",
       "1    28498\n",
       "3    12996\n",
       "Name: DOMAIN_B, dtype: int64"
      ]
     },
     "execution_count": 39,
     "metadata": {},
     "output_type": "execute_result"
    }
   ],
   "source": [
    "categorical['DOMAIN_B'].value_counts()"
   ]
  },
  {
   "cell_type": "code",
   "execution_count": 40,
   "id": "c594312f",
   "metadata": {},
   "outputs": [],
   "source": [
    "drop_list=[]"
   ]
  },
  {
   "cell_type": "code",
   "execution_count": 41,
   "id": "f0a68c17",
   "metadata": {},
   "outputs": [
    {
     "data": {
      "text/plain": [
       "A    94013\n",
       "B     1399\n",
       "Name: MAILCODE, dtype: int64"
      ]
     },
     "execution_count": 41,
     "metadata": {},
     "output_type": "execute_result"
    }
   ],
   "source": [
    "categorical['MAILCODE'].value_counts()"
   ]
  },
  {
   "cell_type": "code",
   "execution_count": 42,
   "id": "0befff2a",
   "metadata": {},
   "outputs": [],
   "source": [
    "drop_list.append('MAILCODE')"
   ]
  },
  {
   "cell_type": "code",
   "execution_count": 44,
   "id": "ba3d6bdc",
   "metadata": {},
   "outputs": [
    {
     "data": {
      "text/plain": [
       "0    61203\n",
       "0    33882\n",
       "1      195\n",
       "1       90\n",
       "X       35\n",
       "Name: NOEXCH, dtype: int64"
      ]
     },
     "execution_count": 44,
     "metadata": {},
     "output_type": "execute_result"
    }
   ],
   "source": [
    "categorical['NOEXCH'].value_counts()"
   ]
  },
  {
   "cell_type": "code",
   "execution_count": 45,
   "id": "78c8097e",
   "metadata": {},
   "outputs": [],
   "source": [
    "drop_list.append('NOEXCH')"
   ]
  },
  {
   "cell_type": "code",
   "execution_count": 46,
   "id": "009a1a85",
   "metadata": {},
   "outputs": [
    {
     "name": "stdout",
     "output_type": "stream",
     "text": [
      "XXXX    95118\n",
      "C1CM       65\n",
      "L1CM       44\n",
      "I1CM       37\n",
      "D2CM       28\n",
      "C2CM       24\n",
      "D1CM       20\n",
      "L2CM       15\n",
      "C1LM        8\n",
      "L1LM        8\n",
      "I2CM        7\n",
      "D5CM        5\n",
      "D5MM        5\n",
      "D2MM        4\n",
      "I1LM        3\n",
      "D5TM        3\n",
      "C2MM        3\n",
      "C5CM        3\n",
      "C2LM        3\n",
      "C1MM        1\n",
      "L2LM        1\n",
      "I2MM        1\n",
      "C5TM        1\n",
      "I5CM        1\n",
      "L2TM        1\n",
      "I5MM        1\n",
      "L1MM        1\n",
      "C5MM        1\n",
      "Name: MDMAUD, dtype: int64\n"
     ]
    }
   ],
   "source": [
    "print(categorical['MDMAUD'].value_counts())"
   ]
  },
  {
   "cell_type": "code",
   "execution_count": 47,
   "id": "603ba153",
   "metadata": {},
   "outputs": [],
   "source": [
    "drop_list.append('MDMAUD')"
   ]
  },
  {
   "cell_type": "code",
   "execution_count": 48,
   "id": "dc3543be",
   "metadata": {},
   "outputs": [
    {
     "data": {
      "text/plain": [
       "X    95118\n",
       "C      109\n",
       "L       70\n",
       "D       65\n",
       "I       50\n",
       "Name: MDMAUD_R, dtype: int64"
      ]
     },
     "execution_count": 48,
     "metadata": {},
     "output_type": "execute_result"
    }
   ],
   "source": [
    "categorical['MDMAUD_R'].value_counts()"
   ]
  },
  {
   "cell_type": "code",
   "execution_count": 49,
   "id": "73754fb3",
   "metadata": {},
   "outputs": [],
   "source": [
    "drop_list = drop_list + ['MDMAUD_R', 'MDMAUD_F','MDMAUD_A']"
   ]
  },
  {
   "cell_type": "code",
   "execution_count": 50,
   "id": "e691e40e",
   "metadata": {},
   "outputs": [
    {
     "data": {
      "text/plain": [
       "40     3979\n",
       "35     3624\n",
       "36     3617\n",
       "27     3553\n",
       "24     3539\n",
       "49     3315\n",
       "12     3000\n",
       "18     2897\n",
       "13     2706\n",
       "30     2607\n",
       "39     2601\n",
       "45     2515\n",
       "43     2385\n",
       "11     2378\n",
       "51     2322\n",
       "NaN    2316\n",
       "14     2246\n",
       "41     2176\n",
       "44     1953\n",
       "16     1947\n",
       "2      1942\n",
       "21     1891\n",
       "8      1828\n",
       "10     1804\n",
       "46     1800\n",
       "28     1630\n",
       "17     1621\n",
       "20     1568\n",
       "53     1441\n",
       "3      1428\n",
       "42     1358\n",
       "34     1358\n",
       "23     1324\n",
       "31     1285\n",
       "22     1282\n",
       "25     1275\n",
       "38     1200\n",
       "15     1173\n",
       "1      1140\n",
       "7      1076\n",
       "5      1014\n",
       "37      972\n",
       "26      947\n",
       "47      868\n",
       "29      859\n",
       "32      795\n",
       "48      787\n",
       "50      776\n",
       "9       770\n",
       "6       603\n",
       "33      593\n",
       "4       561\n",
       "19      497\n",
       "52      270\n",
       "Name: CLUSTER, dtype: int64"
      ]
     },
     "execution_count": 50,
     "metadata": {},
     "output_type": "execute_result"
    }
   ],
   "source": [
    "categorical['CLUSTER'].value_counts(dropna=False)"
   ]
  },
  {
   "cell_type": "code",
   "execution_count": 51,
   "id": "a98be498",
   "metadata": {},
   "outputs": [],
   "source": [
    "categorical['CLUSTER'] = categorical['CLUSTER'].fillna('40')"
   ]
  },
  {
   "cell_type": "code",
   "execution_count": 54,
   "id": "55d8ac80",
   "metadata": {},
   "outputs": [
    {
     "data": {
      "text/plain": [
       "40    6295\n",
       "35    3624\n",
       "36    3617\n",
       "27    3553\n",
       "24    3539\n",
       "49    3315\n",
       "12    3000\n",
       "18    2897\n",
       "13    2706\n",
       "30    2607\n",
       "39    2601\n",
       "45    2515\n",
       "43    2385\n",
       "11    2378\n",
       "51    2322\n",
       "14    2246\n",
       "41    2176\n",
       "44    1953\n",
       "16    1947\n",
       "2     1942\n",
       "21    1891\n",
       "8     1828\n",
       "10    1804\n",
       "46    1800\n",
       "28    1630\n",
       "17    1621\n",
       "20    1568\n",
       "53    1441\n",
       "3     1428\n",
       "34    1358\n",
       "42    1358\n",
       "23    1324\n",
       "31    1285\n",
       "22    1282\n",
       "25    1275\n",
       "38    1200\n",
       "15    1173\n",
       "1     1140\n",
       "7     1076\n",
       "5     1014\n",
       "37     972\n",
       "26     947\n",
       "47     868\n",
       "29     859\n",
       "32     795\n",
       "48     787\n",
       "50     776\n",
       "9      770\n",
       "6      603\n",
       "33     593\n",
       "4      561\n",
       "19     497\n",
       "52     270\n",
       "Name: CLUSTER, dtype: int64"
      ]
     },
     "execution_count": 54,
     "metadata": {},
     "output_type": "execute_result"
    }
   ],
   "source": [
    "categorical['CLUSTER'].value_counts(dropna=False)"
   ]
  },
  {
   "cell_type": "code",
   "execution_count": 52,
   "id": "6249af44",
   "metadata": {},
   "outputs": [
    {
     "data": {
      "text/plain": [
       "H      52354\n",
       "NaN    22228\n",
       "U      20830\n",
       "Name: HOMEOWNR, dtype: int64"
      ]
     },
     "execution_count": 52,
     "metadata": {},
     "output_type": "execute_result"
    }
   ],
   "source": [
    "categorical['HOMEOWNR'].value_counts(dropna=False)"
   ]
  },
  {
   "cell_type": "code",
   "execution_count": 53,
   "id": "5368c545",
   "metadata": {},
   "outputs": [],
   "source": [
    "categorical['HOMEOWNR'] = categorical['HOMEOWNR'].fillna('U')"
   ]
  },
  {
   "cell_type": "code",
   "execution_count": 55,
   "id": "505a2916",
   "metadata": {},
   "outputs": [
    {
     "data": {
      "text/plain": [
       "H    52354\n",
       "U    43058\n",
       "Name: HOMEOWNR, dtype: int64"
      ]
     },
     "execution_count": 55,
     "metadata": {},
     "output_type": "execute_result"
    }
   ],
   "source": [
    "categorical['HOMEOWNR'].value_counts(dropna=False)"
   ]
  },
  {
   "cell_type": "code",
   "execution_count": 56,
   "id": "d697a655",
   "metadata": {},
   "outputs": [
    {
     "data": {
      "text/plain": [
       "F      51277\n",
       "M      39094\n",
       "NaN     2957\n",
       "U       1715\n",
       "J        365\n",
       "C          2\n",
       "A          2\n",
       "Name: GENDER, dtype: int64"
      ]
     },
     "execution_count": 56,
     "metadata": {},
     "output_type": "execute_result"
    }
   ],
   "source": [
    "categorical['GENDER'].value_counts(dropna=False)"
   ]
  },
  {
   "cell_type": "code",
   "execution_count": 57,
   "id": "fbeddd1a",
   "metadata": {},
   "outputs": [],
   "source": [
    "categorical['GENDER'] = categorical['GENDER'].fillna('F')"
   ]
  },
  {
   "cell_type": "code",
   "execution_count": 58,
   "id": "68c3bcdc",
   "metadata": {},
   "outputs": [
    {
     "data": {
      "text/plain": [
       "F    54234\n",
       "M    39094\n",
       "U     1715\n",
       "J      365\n",
       "C        2\n",
       "A        2\n",
       "Name: GENDER, dtype: int64"
      ]
     },
     "execution_count": 58,
     "metadata": {},
     "output_type": "execute_result"
    }
   ],
   "source": [
    "categorical['GENDER'].value_counts(dropna=False)"
   ]
  },
  {
   "cell_type": "code",
   "execution_count": 59,
   "id": "069f5682",
   "metadata": {},
   "outputs": [],
   "source": [
    "categorical['GENDER'] = categorical['GENDER'].replace({'U':'Other','J':'Other','A':'Other','C':'Other'})"
   ]
  },
  {
   "cell_type": "code",
   "execution_count": 60,
   "id": "6feee597",
   "metadata": {},
   "outputs": [
    {
     "data": {
      "text/plain": [
       "F        54234\n",
       "M        39094\n",
       "Other     2084\n",
       "Name: GENDER, dtype: int64"
      ]
     },
     "execution_count": 60,
     "metadata": {},
     "output_type": "execute_result"
    }
   ],
   "source": [
    "categorical['GENDER'].value_counts()"
   ]
  },
  {
   "cell_type": "code",
   "execution_count": 61,
   "id": "54f873f5",
   "metadata": {},
   "outputs": [
    {
     "data": {
      "text/plain": [
       "3      43549\n",
       "2      23455\n",
       "NaN    21280\n",
       "1       7128\n",
       "Name: DATASRCE, dtype: int64"
      ]
     },
     "execution_count": 61,
     "metadata": {},
     "output_type": "execute_result"
    }
   ],
   "source": [
    "categorical['DATASRCE'].value_counts(dropna=False)"
   ]
  },
  {
   "cell_type": "code",
   "execution_count": 62,
   "id": "facb535a",
   "metadata": {},
   "outputs": [],
   "source": [
    "categorical['DATASRCE'] = categorical['DATASRCE'].fillna('3')"
   ]
  },
  {
   "cell_type": "code",
   "execution_count": 63,
   "id": "cc59f04e",
   "metadata": {},
   "outputs": [
    {
     "data": {
      "text/plain": [
       "A      34484\n",
       "B      28505\n",
       "D      16580\n",
       "C      15524\n",
       "NaN      319\n",
       "Name: GEOCODE2, dtype: int64"
      ]
     },
     "execution_count": 63,
     "metadata": {},
     "output_type": "execute_result"
    }
   ],
   "source": [
    "categorical['GEOCODE2'].value_counts(dropna=False)"
   ]
  },
  {
   "cell_type": "code",
   "execution_count": 64,
   "id": "61e3d941",
   "metadata": {},
   "outputs": [],
   "source": [
    "categorical['GEOCODE2'] = categorical['GEOCODE2'].fillna('A')"
   ]
  },
  {
   "cell_type": "code",
   "execution_count": 65,
   "id": "25d17600",
   "metadata": {},
   "outputs": [
    {
     "data": {
      "text/plain": [
       "A    34803\n",
       "B    28505\n",
       "D    16580\n",
       "C    15524\n",
       "Name: GEOCODE2, dtype: int64"
      ]
     },
     "execution_count": 65,
     "metadata": {},
     "output_type": "execute_result"
    }
   ],
   "source": [
    "categorical['GEOCODE2'].value_counts(dropna=False)"
   ]
  },
  {
   "cell_type": "code",
   "execution_count": 66,
   "id": "0e6631c9",
   "metadata": {},
   "outputs": [
    {
     "data": {
      "text/html": [
       "<div>\n",
       "<style scoped>\n",
       "    .dataframe tbody tr th:only-of-type {\n",
       "        vertical-align: middle;\n",
       "    }\n",
       "\n",
       "    .dataframe tbody tr th {\n",
       "        vertical-align: top;\n",
       "    }\n",
       "\n",
       "    .dataframe thead th {\n",
       "        text-align: right;\n",
       "    }\n",
       "</style>\n",
       "<table border=\"1\" class=\"dataframe\">\n",
       "  <thead>\n",
       "    <tr style=\"text-align: right;\">\n",
       "      <th></th>\n",
       "      <th>OSOURCE</th>\n",
       "      <th>STATE</th>\n",
       "      <th>ZIP</th>\n",
       "      <th>MAILCODE</th>\n",
       "      <th>NOEXCH</th>\n",
       "      <th>MDMAUD</th>\n",
       "      <th>CLUSTER</th>\n",
       "      <th>HOMEOWNR</th>\n",
       "      <th>GENDER</th>\n",
       "      <th>DATASRCE</th>\n",
       "      <th>...</th>\n",
       "      <th>RFA_16</th>\n",
       "      <th>RFA_18</th>\n",
       "      <th>RFA_2R</th>\n",
       "      <th>RFA_2A</th>\n",
       "      <th>MDMAUD_R</th>\n",
       "      <th>MDMAUD_F</th>\n",
       "      <th>MDMAUD_A</th>\n",
       "      <th>GEOCODE2</th>\n",
       "      <th>DOMAIN_A</th>\n",
       "      <th>DOMAIN_B</th>\n",
       "    </tr>\n",
       "  </thead>\n",
       "  <tbody>\n",
       "    <tr>\n",
       "      <th>0</th>\n",
       "      <td>GRI</td>\n",
       "      <td>IL</td>\n",
       "      <td>61081</td>\n",
       "      <td>A</td>\n",
       "      <td>0</td>\n",
       "      <td>XXXX</td>\n",
       "      <td>36</td>\n",
       "      <td>U</td>\n",
       "      <td>F</td>\n",
       "      <td>3</td>\n",
       "      <td>...</td>\n",
       "      <td>S4E</td>\n",
       "      <td>S4E</td>\n",
       "      <td>L</td>\n",
       "      <td>E</td>\n",
       "      <td>X</td>\n",
       "      <td>X</td>\n",
       "      <td>X</td>\n",
       "      <td>C</td>\n",
       "      <td>T</td>\n",
       "      <td>2</td>\n",
       "    </tr>\n",
       "    <tr>\n",
       "      <th>1</th>\n",
       "      <td>BOA</td>\n",
       "      <td>CA</td>\n",
       "      <td>91326</td>\n",
       "      <td>A</td>\n",
       "      <td>0</td>\n",
       "      <td>XXXX</td>\n",
       "      <td>14</td>\n",
       "      <td>H</td>\n",
       "      <td>M</td>\n",
       "      <td>3</td>\n",
       "      <td>...</td>\n",
       "      <td>L1E</td>\n",
       "      <td>NaN</td>\n",
       "      <td>L</td>\n",
       "      <td>G</td>\n",
       "      <td>X</td>\n",
       "      <td>X</td>\n",
       "      <td>X</td>\n",
       "      <td>A</td>\n",
       "      <td>S</td>\n",
       "      <td>1</td>\n",
       "    </tr>\n",
       "    <tr>\n",
       "      <th>2</th>\n",
       "      <td>AMH</td>\n",
       "      <td>NC</td>\n",
       "      <td>27017</td>\n",
       "      <td>A</td>\n",
       "      <td>0</td>\n",
       "      <td>XXXX</td>\n",
       "      <td>43</td>\n",
       "      <td>U</td>\n",
       "      <td>M</td>\n",
       "      <td>3</td>\n",
       "      <td>...</td>\n",
       "      <td>S4F</td>\n",
       "      <td>S4D</td>\n",
       "      <td>L</td>\n",
       "      <td>E</td>\n",
       "      <td>X</td>\n",
       "      <td>X</td>\n",
       "      <td>X</td>\n",
       "      <td>C</td>\n",
       "      <td>R</td>\n",
       "      <td>2</td>\n",
       "    </tr>\n",
       "    <tr>\n",
       "      <th>3</th>\n",
       "      <td>BRY</td>\n",
       "      <td>CA</td>\n",
       "      <td>95953</td>\n",
       "      <td>A</td>\n",
       "      <td>0</td>\n",
       "      <td>XXXX</td>\n",
       "      <td>44</td>\n",
       "      <td>U</td>\n",
       "      <td>F</td>\n",
       "      <td>3</td>\n",
       "      <td>...</td>\n",
       "      <td>S4E</td>\n",
       "      <td>S2D</td>\n",
       "      <td>L</td>\n",
       "      <td>E</td>\n",
       "      <td>X</td>\n",
       "      <td>X</td>\n",
       "      <td>X</td>\n",
       "      <td>C</td>\n",
       "      <td>R</td>\n",
       "      <td>2</td>\n",
       "    </tr>\n",
       "    <tr>\n",
       "      <th>4</th>\n",
       "      <td>NaN</td>\n",
       "      <td>FL</td>\n",
       "      <td>33176</td>\n",
       "      <td>A</td>\n",
       "      <td>0</td>\n",
       "      <td>XXXX</td>\n",
       "      <td>16</td>\n",
       "      <td>H</td>\n",
       "      <td>F</td>\n",
       "      <td>3</td>\n",
       "      <td>...</td>\n",
       "      <td>L3D</td>\n",
       "      <td>A2D</td>\n",
       "      <td>L</td>\n",
       "      <td>F</td>\n",
       "      <td>X</td>\n",
       "      <td>X</td>\n",
       "      <td>X</td>\n",
       "      <td>A</td>\n",
       "      <td>S</td>\n",
       "      <td>2</td>\n",
       "    </tr>\n",
       "  </tbody>\n",
       "</table>\n",
       "<p>5 rows × 32 columns</p>\n",
       "</div>"
      ],
      "text/plain": [
       "  OSOURCE STATE    ZIP MAILCODE NOEXCH MDMAUD CLUSTER HOMEOWNR GENDER  \\\n",
       "0     GRI    IL  61081        A      0   XXXX      36        U      F   \n",
       "1     BOA    CA  91326        A      0   XXXX      14        H      M   \n",
       "2     AMH    NC  27017        A      0   XXXX      43        U      M   \n",
       "3     BRY    CA  95953        A      0   XXXX      44        U      F   \n",
       "4     NaN    FL  33176        A      0   XXXX      16        H      F   \n",
       "\n",
       "  DATASRCE  ... RFA_16 RFA_18 RFA_2R RFA_2A MDMAUD_R MDMAUD_F MDMAUD_A  \\\n",
       "0        3  ...    S4E    S4E      L      E        X        X        X   \n",
       "1        3  ...    L1E    NaN      L      G        X        X        X   \n",
       "2        3  ...    S4F    S4D      L      E        X        X        X   \n",
       "3        3  ...    S4E    S2D      L      E        X        X        X   \n",
       "4        3  ...    L3D    A2D      L      F        X        X        X   \n",
       "\n",
       "  GEOCODE2 DOMAIN_A DOMAIN_B  \n",
       "0        C        T        2  \n",
       "1        A        S        1  \n",
       "2        C        R        2  \n",
       "3        C        R        2  \n",
       "4        A        S        2  \n",
       "\n",
       "[5 rows x 32 columns]"
      ]
     },
     "execution_count": 66,
     "metadata": {},
     "output_type": "execute_result"
    }
   ],
   "source": [
    "categorical.head()"
   ]
  },
  {
   "cell_type": "code",
   "execution_count": 67,
   "id": "0388a14b",
   "metadata": {},
   "outputs": [
    {
     "data": {
      "text/plain": [
       "L1F    30380\n",
       "L1G    12384\n",
       "L2F    10961\n",
       "L3E     7767\n",
       "L2E     4989\n",
       "L4D     4914\n",
       "L1E     4911\n",
       "L2G     4595\n",
       "L4E     3972\n",
       "L3F     3523\n",
       "L3D     2498\n",
       "L4F     2100\n",
       "L3G     1503\n",
       "L4G      915\n",
       "Name: RFA_2, dtype: int64"
      ]
     },
     "execution_count": 67,
     "metadata": {},
     "output_type": "execute_result"
    }
   ],
   "source": [
    "categorical['RFA_2'].value_counts()"
   ]
  },
  {
   "cell_type": "code",
   "execution_count": 68,
   "id": "a0918507",
   "metadata": {},
   "outputs": [],
   "source": [
    "for col_name in categorical.columns:\n",
    "    if \"RFA\" in col_name:\n",
    "        drop_list.append(col_name) "
   ]
  },
  {
   "cell_type": "code",
   "execution_count": 69,
   "id": "68af324a",
   "metadata": {},
   "outputs": [
    {
     "data": {
      "text/plain": [
       "['NOEXCH',\n",
       " 'MDMAUD',\n",
       " 'MDMAUD_R',\n",
       " 'MDMAUD_F',\n",
       " 'MDMAUD_A',\n",
       " 'RFA_2',\n",
       " 'RFA_3',\n",
       " 'RFA_4',\n",
       " 'RFA_6',\n",
       " 'RFA_7',\n",
       " 'RFA_8',\n",
       " 'RFA_9',\n",
       " 'RFA_11',\n",
       " 'RFA_12',\n",
       " 'RFA_14',\n",
       " 'RFA_16',\n",
       " 'RFA_18']"
      ]
     },
     "execution_count": 69,
     "metadata": {},
     "output_type": "execute_result"
    }
   ],
   "source": [
    "drop_list.remove('RFA_2R')\n",
    "drop_list.remove('RFA_2A')\n",
    "drop_list"
   ]
  },
  {
   "cell_type": "code",
   "execution_count": 70,
   "id": "e0e5419d",
   "metadata": {},
   "outputs": [
    {
     "data": {
      "text/html": [
       "<div>\n",
       "<style scoped>\n",
       "    .dataframe tbody tr th:only-of-type {\n",
       "        vertical-align: middle;\n",
       "    }\n",
       "\n",
       "    .dataframe tbody tr th {\n",
       "        vertical-align: top;\n",
       "    }\n",
       "\n",
       "    .dataframe thead th {\n",
       "        text-align: right;\n",
       "    }\n",
       "</style>\n",
       "<table border=\"1\" class=\"dataframe\">\n",
       "  <thead>\n",
       "    <tr style=\"text-align: right;\">\n",
       "      <th></th>\n",
       "      <th>OSOURCE</th>\n",
       "      <th>STATE</th>\n",
       "      <th>ZIP</th>\n",
       "      <th>MAILCODE</th>\n",
       "      <th>CLUSTER</th>\n",
       "      <th>HOMEOWNR</th>\n",
       "      <th>GENDER</th>\n",
       "      <th>DATASRCE</th>\n",
       "      <th>SOLIH</th>\n",
       "      <th>VETERANS</th>\n",
       "      <th>RFA_2R</th>\n",
       "      <th>RFA_2A</th>\n",
       "      <th>GEOCODE2</th>\n",
       "      <th>DOMAIN_A</th>\n",
       "      <th>DOMAIN_B</th>\n",
       "    </tr>\n",
       "  </thead>\n",
       "  <tbody>\n",
       "    <tr>\n",
       "      <th>0</th>\n",
       "      <td>GRI</td>\n",
       "      <td>IL</td>\n",
       "      <td>61081</td>\n",
       "      <td>A</td>\n",
       "      <td>36</td>\n",
       "      <td>U</td>\n",
       "      <td>F</td>\n",
       "      <td>3</td>\n",
       "      <td>NaN</td>\n",
       "      <td>NaN</td>\n",
       "      <td>L</td>\n",
       "      <td>E</td>\n",
       "      <td>C</td>\n",
       "      <td>T</td>\n",
       "      <td>2</td>\n",
       "    </tr>\n",
       "    <tr>\n",
       "      <th>1</th>\n",
       "      <td>BOA</td>\n",
       "      <td>CA</td>\n",
       "      <td>91326</td>\n",
       "      <td>A</td>\n",
       "      <td>14</td>\n",
       "      <td>H</td>\n",
       "      <td>M</td>\n",
       "      <td>3</td>\n",
       "      <td>NaN</td>\n",
       "      <td>NaN</td>\n",
       "      <td>L</td>\n",
       "      <td>G</td>\n",
       "      <td>A</td>\n",
       "      <td>S</td>\n",
       "      <td>1</td>\n",
       "    </tr>\n",
       "    <tr>\n",
       "      <th>2</th>\n",
       "      <td>AMH</td>\n",
       "      <td>NC</td>\n",
       "      <td>27017</td>\n",
       "      <td>A</td>\n",
       "      <td>43</td>\n",
       "      <td>U</td>\n",
       "      <td>M</td>\n",
       "      <td>3</td>\n",
       "      <td>NaN</td>\n",
       "      <td>NaN</td>\n",
       "      <td>L</td>\n",
       "      <td>E</td>\n",
       "      <td>C</td>\n",
       "      <td>R</td>\n",
       "      <td>2</td>\n",
       "    </tr>\n",
       "    <tr>\n",
       "      <th>3</th>\n",
       "      <td>BRY</td>\n",
       "      <td>CA</td>\n",
       "      <td>95953</td>\n",
       "      <td>A</td>\n",
       "      <td>44</td>\n",
       "      <td>U</td>\n",
       "      <td>F</td>\n",
       "      <td>3</td>\n",
       "      <td>NaN</td>\n",
       "      <td>NaN</td>\n",
       "      <td>L</td>\n",
       "      <td>E</td>\n",
       "      <td>C</td>\n",
       "      <td>R</td>\n",
       "      <td>2</td>\n",
       "    </tr>\n",
       "    <tr>\n",
       "      <th>4</th>\n",
       "      <td>NaN</td>\n",
       "      <td>FL</td>\n",
       "      <td>33176</td>\n",
       "      <td>A</td>\n",
       "      <td>16</td>\n",
       "      <td>H</td>\n",
       "      <td>F</td>\n",
       "      <td>3</td>\n",
       "      <td>12</td>\n",
       "      <td>NaN</td>\n",
       "      <td>L</td>\n",
       "      <td>F</td>\n",
       "      <td>A</td>\n",
       "      <td>S</td>\n",
       "      <td>2</td>\n",
       "    </tr>\n",
       "  </tbody>\n",
       "</table>\n",
       "</div>"
      ],
      "text/plain": [
       "  OSOURCE STATE    ZIP MAILCODE CLUSTER HOMEOWNR GENDER DATASRCE SOLIH  \\\n",
       "0     GRI    IL  61081        A      36        U      F        3   NaN   \n",
       "1     BOA    CA  91326        A      14        H      M        3   NaN   \n",
       "2     AMH    NC  27017        A      43        U      M        3   NaN   \n",
       "3     BRY    CA  95953        A      44        U      F        3   NaN   \n",
       "4     NaN    FL  33176        A      16        H      F        3    12   \n",
       "\n",
       "  VETERANS RFA_2R RFA_2A GEOCODE2 DOMAIN_A DOMAIN_B  \n",
       "0      NaN      L      E        C        T        2  \n",
       "1      NaN      L      G        A        S        1  \n",
       "2      NaN      L      E        C        R        2  \n",
       "3      NaN      L      E        C        R        2  \n",
       "4      NaN      L      F        A        S        2  "
      ]
     },
     "execution_count": 70,
     "metadata": {},
     "output_type": "execute_result"
    }
   ],
   "source": [
    "categorical = categorical.drop(columns=drop_list)\n",
    "categorical.head()"
   ]
  },
  {
   "cell_type": "code",
   "execution_count": 71,
   "id": "e38fbce7",
   "metadata": {},
   "outputs": [
    {
     "data": {
      "text/plain": [
       "OSOURCE       928\n",
       "STATE           0\n",
       "ZIP             0\n",
       "MAILCODE        0\n",
       "CLUSTER         0\n",
       "HOMEOWNR        0\n",
       "GENDER          0\n",
       "DATASRCE        0\n",
       "SOLIH       89212\n",
       "VETERANS    84986\n",
       "RFA_2R          0\n",
       "RFA_2A          0\n",
       "GEOCODE2        0\n",
       "DOMAIN_A        0\n",
       "DOMAIN_B        0\n",
       "dtype: int64"
      ]
     },
     "execution_count": 71,
     "metadata": {},
     "output_type": "execute_result"
    }
   ],
   "source": [
    "categorical.isna().sum()"
   ]
  },
  {
   "cell_type": "code",
   "execution_count": null,
   "id": "4fefe09f",
   "metadata": {},
   "outputs": [],
   "source": []
  },
  {
   "cell_type": "code",
   "execution_count": null,
   "id": "65fe2a9f",
   "metadata": {},
   "outputs": [],
   "source": []
  },
  {
   "cell_type": "code",
   "execution_count": null,
   "id": "f0a2cca9",
   "metadata": {},
   "outputs": [],
   "source": []
  },
  {
   "cell_type": "code",
   "execution_count": null,
   "id": "47092f64",
   "metadata": {},
   "outputs": [],
   "source": []
  },
  {
   "cell_type": "code",
   "execution_count": null,
   "id": "1b05c6dc",
   "metadata": {},
   "outputs": [],
   "source": [
    "#Working with numerical columns"
   ]
  },
  {
   "cell_type": "code",
   "execution_count": 72,
   "id": "09ea272c",
   "metadata": {},
   "outputs": [
    {
     "data": {
      "text/html": [
       "<div>\n",
       "<style scoped>\n",
       "    .dataframe tbody tr th:only-of-type {\n",
       "        vertical-align: middle;\n",
       "    }\n",
       "\n",
       "    .dataframe tbody tr th {\n",
       "        vertical-align: top;\n",
       "    }\n",
       "\n",
       "    .dataframe thead th {\n",
       "        text-align: right;\n",
       "    }\n",
       "</style>\n",
       "<table border=\"1\" class=\"dataframe\">\n",
       "  <thead>\n",
       "    <tr style=\"text-align: right;\">\n",
       "      <th></th>\n",
       "      <th>ODATEDW</th>\n",
       "      <th>TCODE</th>\n",
       "      <th>DOB</th>\n",
       "      <th>AGE</th>\n",
       "      <th>INCOME</th>\n",
       "      <th>WEALTH1</th>\n",
       "      <th>HIT</th>\n",
       "      <th>MALEMILI</th>\n",
       "      <th>MALEVET</th>\n",
       "      <th>VIETVETS</th>\n",
       "      <th>...</th>\n",
       "      <th>LASTGIFT</th>\n",
       "      <th>LASTDATE</th>\n",
       "      <th>FISTDATE</th>\n",
       "      <th>NEXTDATE</th>\n",
       "      <th>TIMELAG</th>\n",
       "      <th>AVGGIFT</th>\n",
       "      <th>CONTROLN</th>\n",
       "      <th>HPHONE_D</th>\n",
       "      <th>RFA_2F</th>\n",
       "      <th>CLUSTER2</th>\n",
       "    </tr>\n",
       "  </thead>\n",
       "  <tbody>\n",
       "    <tr>\n",
       "      <th>0</th>\n",
       "      <td>8901</td>\n",
       "      <td>0</td>\n",
       "      <td>3712</td>\n",
       "      <td>60.0</td>\n",
       "      <td>NaN</td>\n",
       "      <td>NaN</td>\n",
       "      <td>0</td>\n",
       "      <td>0</td>\n",
       "      <td>39</td>\n",
       "      <td>34</td>\n",
       "      <td>...</td>\n",
       "      <td>10.0</td>\n",
       "      <td>9512</td>\n",
       "      <td>8911</td>\n",
       "      <td>9003.0</td>\n",
       "      <td>4.0</td>\n",
       "      <td>7.741935</td>\n",
       "      <td>95515</td>\n",
       "      <td>0</td>\n",
       "      <td>4</td>\n",
       "      <td>39.0</td>\n",
       "    </tr>\n",
       "    <tr>\n",
       "      <th>1</th>\n",
       "      <td>9401</td>\n",
       "      <td>1</td>\n",
       "      <td>5202</td>\n",
       "      <td>46.0</td>\n",
       "      <td>6.0</td>\n",
       "      <td>9.0</td>\n",
       "      <td>16</td>\n",
       "      <td>0</td>\n",
       "      <td>15</td>\n",
       "      <td>55</td>\n",
       "      <td>...</td>\n",
       "      <td>25.0</td>\n",
       "      <td>9512</td>\n",
       "      <td>9310</td>\n",
       "      <td>9504.0</td>\n",
       "      <td>18.0</td>\n",
       "      <td>15.666667</td>\n",
       "      <td>148535</td>\n",
       "      <td>0</td>\n",
       "      <td>2</td>\n",
       "      <td>1.0</td>\n",
       "    </tr>\n",
       "    <tr>\n",
       "      <th>2</th>\n",
       "      <td>9001</td>\n",
       "      <td>1</td>\n",
       "      <td>0</td>\n",
       "      <td>NaN</td>\n",
       "      <td>3.0</td>\n",
       "      <td>1.0</td>\n",
       "      <td>2</td>\n",
       "      <td>0</td>\n",
       "      <td>20</td>\n",
       "      <td>29</td>\n",
       "      <td>...</td>\n",
       "      <td>5.0</td>\n",
       "      <td>9512</td>\n",
       "      <td>9001</td>\n",
       "      <td>9101.0</td>\n",
       "      <td>12.0</td>\n",
       "      <td>7.481481</td>\n",
       "      <td>15078</td>\n",
       "      <td>1</td>\n",
       "      <td>4</td>\n",
       "      <td>60.0</td>\n",
       "    </tr>\n",
       "    <tr>\n",
       "      <th>3</th>\n",
       "      <td>8701</td>\n",
       "      <td>0</td>\n",
       "      <td>2801</td>\n",
       "      <td>70.0</td>\n",
       "      <td>1.0</td>\n",
       "      <td>4.0</td>\n",
       "      <td>2</td>\n",
       "      <td>0</td>\n",
       "      <td>23</td>\n",
       "      <td>14</td>\n",
       "      <td>...</td>\n",
       "      <td>10.0</td>\n",
       "      <td>9512</td>\n",
       "      <td>8702</td>\n",
       "      <td>8711.0</td>\n",
       "      <td>9.0</td>\n",
       "      <td>6.812500</td>\n",
       "      <td>172556</td>\n",
       "      <td>1</td>\n",
       "      <td>4</td>\n",
       "      <td>41.0</td>\n",
       "    </tr>\n",
       "    <tr>\n",
       "      <th>4</th>\n",
       "      <td>8601</td>\n",
       "      <td>0</td>\n",
       "      <td>2001</td>\n",
       "      <td>78.0</td>\n",
       "      <td>3.0</td>\n",
       "      <td>2.0</td>\n",
       "      <td>60</td>\n",
       "      <td>1</td>\n",
       "      <td>28</td>\n",
       "      <td>9</td>\n",
       "      <td>...</td>\n",
       "      <td>15.0</td>\n",
       "      <td>9601</td>\n",
       "      <td>7903</td>\n",
       "      <td>8005.0</td>\n",
       "      <td>14.0</td>\n",
       "      <td>6.864865</td>\n",
       "      <td>7112</td>\n",
       "      <td>1</td>\n",
       "      <td>2</td>\n",
       "      <td>26.0</td>\n",
       "    </tr>\n",
       "  </tbody>\n",
       "</table>\n",
       "<p>5 rows × 335 columns</p>\n",
       "</div>"
      ],
      "text/plain": [
       "   ODATEDW  TCODE   DOB   AGE  INCOME  WEALTH1  HIT  MALEMILI  MALEVET  \\\n",
       "0     8901      0  3712  60.0     NaN      NaN    0         0       39   \n",
       "1     9401      1  5202  46.0     6.0      9.0   16         0       15   \n",
       "2     9001      1     0   NaN     3.0      1.0    2         0       20   \n",
       "3     8701      0  2801  70.0     1.0      4.0    2         0       23   \n",
       "4     8601      0  2001  78.0     3.0      2.0   60         1       28   \n",
       "\n",
       "   VIETVETS  ...  LASTGIFT  LASTDATE  FISTDATE  NEXTDATE  TIMELAG    AVGGIFT  \\\n",
       "0        34  ...      10.0      9512      8911    9003.0      4.0   7.741935   \n",
       "1        55  ...      25.0      9512      9310    9504.0     18.0  15.666667   \n",
       "2        29  ...       5.0      9512      9001    9101.0     12.0   7.481481   \n",
       "3        14  ...      10.0      9512      8702    8711.0      9.0   6.812500   \n",
       "4         9  ...      15.0      9601      7903    8005.0     14.0   6.864865   \n",
       "\n",
       "   CONTROLN  HPHONE_D  RFA_2F  CLUSTER2  \n",
       "0     95515         0       4      39.0  \n",
       "1    148535         0       2       1.0  \n",
       "2     15078         1       4      60.0  \n",
       "3    172556         1       4      41.0  \n",
       "4      7112         1       2      26.0  \n",
       "\n",
       "[5 rows x 335 columns]"
      ]
     },
     "execution_count": 72,
     "metadata": {},
     "output_type": "execute_result"
    }
   ],
   "source": [
    "numerical.head()"
   ]
  },
  {
   "cell_type": "code",
   "execution_count": 73,
   "id": "03aaf37a",
   "metadata": {},
   "outputs": [
    {
     "data": {
      "text/plain": [
       "(95412, 335)"
      ]
     },
     "execution_count": 73,
     "metadata": {},
     "output_type": "execute_result"
    }
   ],
   "source": [
    "numerical.shape"
   ]
  },
  {
   "cell_type": "code",
   "execution_count": 74,
   "id": "f40b7d45",
   "metadata": {},
   "outputs": [
    {
     "data": {
      "text/html": [
       "<div>\n",
       "<style scoped>\n",
       "    .dataframe tbody tr th:only-of-type {\n",
       "        vertical-align: middle;\n",
       "    }\n",
       "\n",
       "    .dataframe tbody tr th {\n",
       "        vertical-align: top;\n",
       "    }\n",
       "\n",
       "    .dataframe thead th {\n",
       "        text-align: right;\n",
       "    }\n",
       "</style>\n",
       "<table border=\"1\" class=\"dataframe\">\n",
       "  <thead>\n",
       "    <tr style=\"text-align: right;\">\n",
       "      <th></th>\n",
       "      <th>column_name</th>\n",
       "      <th>nulls</th>\n",
       "    </tr>\n",
       "  </thead>\n",
       "  <tbody>\n",
       "    <tr>\n",
       "      <th>3</th>\n",
       "      <td>AGE</td>\n",
       "      <td>23665</td>\n",
       "    </tr>\n",
       "    <tr>\n",
       "      <th>4</th>\n",
       "      <td>INCOME</td>\n",
       "      <td>21286</td>\n",
       "    </tr>\n",
       "    <tr>\n",
       "      <th>5</th>\n",
       "      <td>WEALTH1</td>\n",
       "      <td>44732</td>\n",
       "    </tr>\n",
       "    <tr>\n",
       "      <th>14</th>\n",
       "      <td>WEALTH2</td>\n",
       "      <td>43823</td>\n",
       "    </tr>\n",
       "    <tr>\n",
       "      <th>135</th>\n",
       "      <td>MSA</td>\n",
       "      <td>132</td>\n",
       "    </tr>\n",
       "    <tr>\n",
       "      <th>136</th>\n",
       "      <td>ADI</td>\n",
       "      <td>132</td>\n",
       "    </tr>\n",
       "    <tr>\n",
       "      <th>137</th>\n",
       "      <td>DMA</td>\n",
       "      <td>132</td>\n",
       "    </tr>\n",
       "    <tr>\n",
       "      <th>302</th>\n",
       "      <td>ADATE_3</td>\n",
       "      <td>1950</td>\n",
       "    </tr>\n",
       "    <tr>\n",
       "      <th>303</th>\n",
       "      <td>ADATE_4</td>\n",
       "      <td>2191</td>\n",
       "    </tr>\n",
       "    <tr>\n",
       "      <th>304</th>\n",
       "      <td>ADATE_6</td>\n",
       "      <td>3557</td>\n",
       "    </tr>\n",
       "    <tr>\n",
       "      <th>305</th>\n",
       "      <td>ADATE_7</td>\n",
       "      <td>8874</td>\n",
       "    </tr>\n",
       "    <tr>\n",
       "      <th>306</th>\n",
       "      <td>ADATE_8</td>\n",
       "      <td>3511</td>\n",
       "    </tr>\n",
       "    <tr>\n",
       "      <th>307</th>\n",
       "      <td>ADATE_9</td>\n",
       "      <td>11245</td>\n",
       "    </tr>\n",
       "    <tr>\n",
       "      <th>308</th>\n",
       "      <td>ADATE_11</td>\n",
       "      <td>10422</td>\n",
       "    </tr>\n",
       "    <tr>\n",
       "      <th>309</th>\n",
       "      <td>ADATE_12</td>\n",
       "      <td>8923</td>\n",
       "    </tr>\n",
       "    <tr>\n",
       "      <th>310</th>\n",
       "      <td>ADATE_14</td>\n",
       "      <td>18867</td>\n",
       "    </tr>\n",
       "    <tr>\n",
       "      <th>311</th>\n",
       "      <td>ADATE_16</td>\n",
       "      <td>20364</td>\n",
       "    </tr>\n",
       "    <tr>\n",
       "      <th>312</th>\n",
       "      <td>ADATE_18</td>\n",
       "      <td>21263</td>\n",
       "    </tr>\n",
       "    <tr>\n",
       "      <th>328</th>\n",
       "      <td>NEXTDATE</td>\n",
       "      <td>9973</td>\n",
       "    </tr>\n",
       "    <tr>\n",
       "      <th>329</th>\n",
       "      <td>TIMELAG</td>\n",
       "      <td>9973</td>\n",
       "    </tr>\n",
       "    <tr>\n",
       "      <th>334</th>\n",
       "      <td>CLUSTER2</td>\n",
       "      <td>132</td>\n",
       "    </tr>\n",
       "  </tbody>\n",
       "</table>\n",
       "</div>"
      ],
      "text/plain": [
       "    column_name  nulls\n",
       "3           AGE  23665\n",
       "4        INCOME  21286\n",
       "5       WEALTH1  44732\n",
       "14      WEALTH2  43823\n",
       "135         MSA    132\n",
       "136         ADI    132\n",
       "137         DMA    132\n",
       "302     ADATE_3   1950\n",
       "303     ADATE_4   2191\n",
       "304     ADATE_6   3557\n",
       "305     ADATE_7   8874\n",
       "306     ADATE_8   3511\n",
       "307     ADATE_9  11245\n",
       "308    ADATE_11  10422\n",
       "309    ADATE_12   8923\n",
       "310    ADATE_14  18867\n",
       "311    ADATE_16  20364\n",
       "312    ADATE_18  21263\n",
       "328    NEXTDATE   9973\n",
       "329     TIMELAG   9973\n",
       "334    CLUSTER2    132"
      ]
     },
     "execution_count": 74,
     "metadata": {},
     "output_type": "execute_result"
    }
   ],
   "source": [
    "df = pd.DataFrame(numerical.isna().sum()).reset_index()\n",
    "df.columns = ['column_name', 'nulls']\n",
    "df[df['nulls']>0]"
   ]
  },
  {
   "cell_type": "code",
   "execution_count": 75,
   "id": "e0734fdd",
   "metadata": {},
   "outputs": [],
   "source": [
    "drop_list = []\n",
    "for col_name in numerical.columns:\n",
    "    if \"ADATE\" in col_name:\n",
    "        drop_list.append(col_name)   "
   ]
  },
  {
   "cell_type": "code",
   "execution_count": 76,
   "id": "ba9c2780",
   "metadata": {},
   "outputs": [
    {
     "data": {
      "text/plain": [
       "9706    95399\n",
       "9704       13\n",
       "Name: ADATE_2, dtype: int64"
      ]
     },
     "execution_count": 76,
     "metadata": {},
     "output_type": "execute_result"
    }
   ],
   "source": [
    "numerical['ADATE_2'].value_counts()"
   ]
  },
  {
   "cell_type": "code",
   "execution_count": 77,
   "id": "47571fc5",
   "metadata": {},
   "outputs": [
    {
     "data": {
      "image/png": "[encoded data removed]",
      "text/plain": [
       "<Figure size 432x288 with 1 Axes>"
      ]
     },
     "metadata": {
      "needs_background": "light"
     },
     "output_type": "display_data"
    }
   ],
   "source": [
    "numerical['AGE'] = numerical[\"AGE\"].fillna(np.mean(numerical['AGE']))\n",
    "sns.distplot(numerical['AGE'])\n",
    "plt.show()"
   ]
  },
  {
   "cell_type": "code",
   "execution_count": 78,
   "id": "0e66851a",
   "metadata": {},
   "outputs": [
    {
     "data": {
      "image/png": "[encoded data removed]",
      "text/plain": [
       "<Figure size 432x288 with 1 Axes>"
      ]
     },
     "metadata": {
      "needs_background": "light"
     },
     "output_type": "display_data"
    }
   ],
   "source": [
    "sns.distplot(numerical['INCOME'])  \n",
    "sns.distplot(numerical[numerical['INCOME'].isna()==False]['INCOME']) \n",
    "plt.show()"
   ]
  },
  {
   "cell_type": "code",
   "execution_count": 79,
   "id": "5be072c2",
   "metadata": {},
   "outputs": [
    {
     "data": {
      "text/plain": [
       "5.0    15451\n",
       "2.0    13114\n",
       "4.0    12732\n",
       "1.0     9022\n",
       "3.0     8558\n",
       "6.0     7778\n",
       "7.0     7471\n",
       "Name: INCOME, dtype: int64"
      ]
     },
     "execution_count": 79,
     "metadata": {},
     "output_type": "execute_result"
    }
   ],
   "source": [
    "numerical['INCOME'].value_counts()"
   ]
  },
  {
   "cell_type": "code",
   "execution_count": 80,
   "id": "9960588a",
   "metadata": {},
   "outputs": [
    {
     "name": "stdout",
     "output_type": "stream",
     "text": [
      "5.0    15451\n",
      "2.0    13114\n",
      "4.0    12732\n",
      "1.0     9022\n",
      "3.0     8558\n",
      "6.0     7778\n",
      "7.0     7471\n",
      "Name: INCOME, dtype: int64\n"
     ]
    }
   ],
   "source": [
    "print(numerical['INCOME'].value_counts())\n",
    "numerical['INCOME'] = numerical['INCOME'].astype('object')"
   ]
  },
  {
   "cell_type": "code",
   "execution_count": 81,
   "id": "6f31bd77",
   "metadata": {},
   "outputs": [],
   "source": [
    "numerical['INCOME'] = numerical['INCOME'].fillna('5.0')"
   ]
  },
  {
   "cell_type": "code",
   "execution_count": 82,
   "id": "e5dd4db1",
   "metadata": {},
   "outputs": [
    {
     "data": {
      "text/plain": [
       "5.0    21286\n",
       "5.0    15451\n",
       "2.0    13114\n",
       "4.0    12732\n",
       "1.0     9022\n",
       "3.0     8558\n",
       "6.0     7778\n",
       "7.0     7471\n",
       "Name: INCOME, dtype: int64"
      ]
     },
     "execution_count": 82,
     "metadata": {},
     "output_type": "execute_result"
    }
   ],
   "source": [
    "numerical['INCOME'].value_counts()"
   ]
  },
  {
   "cell_type": "code",
   "execution_count": 83,
   "id": "fe1068d5",
   "metadata": {},
   "outputs": [
    {
     "data": {
      "image/png": "[encoded data removed]",
      "text/plain": [
       "<Figure size 432x288 with 1 Axes>"
      ]
     },
     "metadata": {
      "needs_background": "light"
     },
     "output_type": "display_data"
    }
   ],
   "source": [
    "sns.distplot(numerical[numerical['CLUSTER2'].isna()==False]['CLUSTER2']) \n",
    "plt.show()"
   ]
  },
  {
   "cell_type": "code",
   "execution_count": 84,
   "id": "93746fe3",
   "metadata": {},
   "outputs": [],
   "source": [
    "numerical['CLUSTER2'] = numerical['CLUSTER2'].fillna(np.ceil(np.mean(numerical['CLUSTER2'])))"
   ]
  },
  {
   "cell_type": "code",
   "execution_count": 85,
   "id": "91fedc02",
   "metadata": {},
   "outputs": [
    {
     "data": {
      "text/plain": [
       "13.0    3466\n",
       "5.0     3154\n",
       "57.0    2666\n",
       "59.0    2653\n",
       "15.0    2559\n",
       "        ... \n",
       "30.0     647\n",
       "46.0     644\n",
       "29.0     569\n",
       "40.0     369\n",
       "6.0      211\n",
       "Name: CLUSTER2, Length: 62, dtype: int64"
      ]
     },
     "execution_count": 85,
     "metadata": {},
     "output_type": "execute_result"
    }
   ],
   "source": [
    "numerical['CLUSTER2'].value_counts()"
   ]
  },
  {
   "cell_type": "code",
   "execution_count": 86,
   "id": "6ad6392d",
   "metadata": {},
   "outputs": [
    {
     "data": {
      "image/png": "[encoded data removed]",
      "text/plain": [
       "<Figure size 432x288 with 1 Axes>"
      ]
     },
     "metadata": {
      "needs_background": "light"
     },
     "output_type": "display_data"
    }
   ],
   "source": [
    "sns.distplot(numerical[numerical['WEALTH2'].isna()==False]['WEALTH2']) \n",
    "plt.show()"
   ]
  },
  {
   "cell_type": "code",
   "execution_count": 87,
   "id": "d37b51fa",
   "metadata": {},
   "outputs": [],
   "source": [
    "numerical['WEALTH2'] = numerical['WEALTH2'].astype('object')\n",
    "numerical['WEALTH2'] = numerical['WEALTH2'].fillna('9.0')"
   ]
  },
  {
   "cell_type": "code",
   "execution_count": 88,
   "id": "773544de",
   "metadata": {},
   "outputs": [
    {
     "data": {
      "image/png": "[encoded data removed]",
      "text/plain": [
       "<Figure size 432x288 with 1 Axes>"
      ]
     },
     "metadata": {
      "needs_background": "light"
     },
     "output_type": "display_data"
    }
   ],
   "source": [
    "sns.distplot(numerical[numerical['TIMELAG'].isna()==False]['TIMELAG']) \n",
    "plt.show()"
   ]
  },
  {
   "cell_type": "code",
   "execution_count": 89,
   "id": "1d08aee7",
   "metadata": {},
   "outputs": [
    {
     "data": {
      "text/plain": [
       "5.0       8584\n",
       "4.0       8490\n",
       "3.0       8485\n",
       "6.0       6648\n",
       "2.0       6275\n",
       "          ... \n",
       "89.0         1\n",
       "1044.0       1\n",
       "58.0         1\n",
       "442.0        1\n",
       "61.0         1\n",
       "Name: TIMELAG, Length: 68, dtype: int64"
      ]
     },
     "execution_count": 89,
     "metadata": {},
     "output_type": "execute_result"
    }
   ],
   "source": [
    "numerical['TIMELAG'].value_counts()"
   ]
  },
  {
   "cell_type": "code",
   "execution_count": 90,
   "id": "9da77542",
   "metadata": {},
   "outputs": [],
   "source": [
    "numerical['TIMELAG'] = numerical['TIMELAG'].fillna(np.ceil(np.mean(numerical['TIMELAG'])))"
   ]
  },
  {
   "cell_type": "code",
   "execution_count": 91,
   "id": "19dc5e69",
   "metadata": {},
   "outputs": [
    {
     "data": {
      "text/plain": [
       "9.0       14461\n",
       "5.0        8584\n",
       "4.0        8490\n",
       "3.0        8485\n",
       "6.0        6648\n",
       "          ...  \n",
       "89.0          1\n",
       "1044.0        1\n",
       "58.0          1\n",
       "442.0         1\n",
       "61.0          1\n",
       "Name: TIMELAG, Length: 68, dtype: int64"
      ]
     },
     "execution_count": 91,
     "metadata": {},
     "output_type": "execute_result"
    }
   ],
   "source": [
    "numerical['TIMELAG'].value_counts()"
   ]
  },
  {
   "cell_type": "code",
   "execution_count": 92,
   "id": "b46f33b6",
   "metadata": {},
   "outputs": [
    {
     "data": {
      "text/html": [
       "<div>\n",
       "<style scoped>\n",
       "    .dataframe tbody tr th:only-of-type {\n",
       "        vertical-align: middle;\n",
       "    }\n",
       "\n",
       "    .dataframe tbody tr th {\n",
       "        vertical-align: top;\n",
       "    }\n",
       "\n",
       "    .dataframe thead th {\n",
       "        text-align: right;\n",
       "    }\n",
       "</style>\n",
       "<table border=\"1\" class=\"dataframe\">\n",
       "  <thead>\n",
       "    <tr style=\"text-align: right;\">\n",
       "      <th></th>\n",
       "      <th>ODATEDW</th>\n",
       "      <th>TCODE</th>\n",
       "      <th>DOB</th>\n",
       "      <th>AGE</th>\n",
       "      <th>INCOME</th>\n",
       "      <th>WEALTH1</th>\n",
       "      <th>HIT</th>\n",
       "      <th>MALEMILI</th>\n",
       "      <th>MALEVET</th>\n",
       "      <th>VIETVETS</th>\n",
       "      <th>...</th>\n",
       "      <th>LASTGIFT</th>\n",
       "      <th>LASTDATE</th>\n",
       "      <th>FISTDATE</th>\n",
       "      <th>NEXTDATE</th>\n",
       "      <th>TIMELAG</th>\n",
       "      <th>AVGGIFT</th>\n",
       "      <th>CONTROLN</th>\n",
       "      <th>HPHONE_D</th>\n",
       "      <th>RFA_2F</th>\n",
       "      <th>CLUSTER2</th>\n",
       "    </tr>\n",
       "  </thead>\n",
       "  <tbody>\n",
       "    <tr>\n",
       "      <th>0</th>\n",
       "      <td>8901</td>\n",
       "      <td>0</td>\n",
       "      <td>3712</td>\n",
       "      <td>60.000000</td>\n",
       "      <td>5.0</td>\n",
       "      <td>NaN</td>\n",
       "      <td>0</td>\n",
       "      <td>0</td>\n",
       "      <td>39</td>\n",
       "      <td>34</td>\n",
       "      <td>...</td>\n",
       "      <td>10.0</td>\n",
       "      <td>9512</td>\n",
       "      <td>8911</td>\n",
       "      <td>9003.0</td>\n",
       "      <td>4.0</td>\n",
       "      <td>7.741935</td>\n",
       "      <td>95515</td>\n",
       "      <td>0</td>\n",
       "      <td>4</td>\n",
       "      <td>39.0</td>\n",
       "    </tr>\n",
       "    <tr>\n",
       "      <th>1</th>\n",
       "      <td>9401</td>\n",
       "      <td>1</td>\n",
       "      <td>5202</td>\n",
       "      <td>46.000000</td>\n",
       "      <td>6.0</td>\n",
       "      <td>9.0</td>\n",
       "      <td>16</td>\n",
       "      <td>0</td>\n",
       "      <td>15</td>\n",
       "      <td>55</td>\n",
       "      <td>...</td>\n",
       "      <td>25.0</td>\n",
       "      <td>9512</td>\n",
       "      <td>9310</td>\n",
       "      <td>9504.0</td>\n",
       "      <td>18.0</td>\n",
       "      <td>15.666667</td>\n",
       "      <td>148535</td>\n",
       "      <td>0</td>\n",
       "      <td>2</td>\n",
       "      <td>1.0</td>\n",
       "    </tr>\n",
       "    <tr>\n",
       "      <th>2</th>\n",
       "      <td>9001</td>\n",
       "      <td>1</td>\n",
       "      <td>0</td>\n",
       "      <td>61.611649</td>\n",
       "      <td>3.0</td>\n",
       "      <td>1.0</td>\n",
       "      <td>2</td>\n",
       "      <td>0</td>\n",
       "      <td>20</td>\n",
       "      <td>29</td>\n",
       "      <td>...</td>\n",
       "      <td>5.0</td>\n",
       "      <td>9512</td>\n",
       "      <td>9001</td>\n",
       "      <td>9101.0</td>\n",
       "      <td>12.0</td>\n",
       "      <td>7.481481</td>\n",
       "      <td>15078</td>\n",
       "      <td>1</td>\n",
       "      <td>4</td>\n",
       "      <td>60.0</td>\n",
       "    </tr>\n",
       "    <tr>\n",
       "      <th>3</th>\n",
       "      <td>8701</td>\n",
       "      <td>0</td>\n",
       "      <td>2801</td>\n",
       "      <td>70.000000</td>\n",
       "      <td>1.0</td>\n",
       "      <td>4.0</td>\n",
       "      <td>2</td>\n",
       "      <td>0</td>\n",
       "      <td>23</td>\n",
       "      <td>14</td>\n",
       "      <td>...</td>\n",
       "      <td>10.0</td>\n",
       "      <td>9512</td>\n",
       "      <td>8702</td>\n",
       "      <td>8711.0</td>\n",
       "      <td>9.0</td>\n",
       "      <td>6.812500</td>\n",
       "      <td>172556</td>\n",
       "      <td>1</td>\n",
       "      <td>4</td>\n",
       "      <td>41.0</td>\n",
       "    </tr>\n",
       "    <tr>\n",
       "      <th>4</th>\n",
       "      <td>8601</td>\n",
       "      <td>0</td>\n",
       "      <td>2001</td>\n",
       "      <td>78.000000</td>\n",
       "      <td>3.0</td>\n",
       "      <td>2.0</td>\n",
       "      <td>60</td>\n",
       "      <td>1</td>\n",
       "      <td>28</td>\n",
       "      <td>9</td>\n",
       "      <td>...</td>\n",
       "      <td>15.0</td>\n",
       "      <td>9601</td>\n",
       "      <td>7903</td>\n",
       "      <td>8005.0</td>\n",
       "      <td>14.0</td>\n",
       "      <td>6.864865</td>\n",
       "      <td>7112</td>\n",
       "      <td>1</td>\n",
       "      <td>2</td>\n",
       "      <td>26.0</td>\n",
       "    </tr>\n",
       "  </tbody>\n",
       "</table>\n",
       "<p>5 rows × 335 columns</p>\n",
       "</div>"
      ],
      "text/plain": [
       "   ODATEDW  TCODE   DOB        AGE INCOME  WEALTH1  HIT  MALEMILI  MALEVET  \\\n",
       "0     8901      0  3712  60.000000    5.0      NaN    0         0       39   \n",
       "1     9401      1  5202  46.000000    6.0      9.0   16         0       15   \n",
       "2     9001      1     0  61.611649    3.0      1.0    2         0       20   \n",
       "3     8701      0  2801  70.000000    1.0      4.0    2         0       23   \n",
       "4     8601      0  2001  78.000000    3.0      2.0   60         1       28   \n",
       "\n",
       "   VIETVETS  ...  LASTGIFT  LASTDATE  FISTDATE  NEXTDATE TIMELAG    AVGGIFT  \\\n",
       "0        34  ...      10.0      9512      8911    9003.0     4.0   7.741935   \n",
       "1        55  ...      25.0      9512      9310    9504.0    18.0  15.666667   \n",
       "2        29  ...       5.0      9512      9001    9101.0    12.0   7.481481   \n",
       "3        14  ...      10.0      9512      8702    8711.0     9.0   6.812500   \n",
       "4         9  ...      15.0      9601      7903    8005.0    14.0   6.864865   \n",
       "\n",
       "   CONTROLN  HPHONE_D  RFA_2F  CLUSTER2  \n",
       "0     95515         0       4      39.0  \n",
       "1    148535         0       2       1.0  \n",
       "2     15078         1       4      60.0  \n",
       "3    172556         1       4      41.0  \n",
       "4      7112         1       2      26.0  \n",
       "\n",
       "[5 rows x 335 columns]"
      ]
     },
     "execution_count": 92,
     "metadata": {},
     "output_type": "execute_result"
    }
   ],
   "source": [
    "numerical.head()"
   ]
  },
  {
   "cell_type": "code",
   "execution_count": null,
   "id": "177a5a8d",
   "metadata": {},
   "outputs": [],
   "source": []
  },
  {
   "cell_type": "code",
   "execution_count": null,
   "id": "3fa9ef5e",
   "metadata": {},
   "outputs": [],
   "source": []
  },
  {
   "cell_type": "code",
   "execution_count": 96,
   "id": "bc5f1051",
   "metadata": {},
   "outputs": [],
   "source": [
    "#Lab | Feature engineering"
   ]
  },
  {
   "cell_type": "code",
   "execution_count": null,
   "id": "114e39f1",
   "metadata": {},
   "outputs": [],
   "source": [
    "#Use appropriate methods to clean the columns GEOCODE2, WEALTH1, ADI, DMA,and MSA."
   ]
  },
  {
   "cell_type": "code",
   "execution_count": 97,
   "id": "a68125b8",
   "metadata": {},
   "outputs": [
    {
     "data": {
      "text/plain": [
       "A    34803\n",
       "B    28505\n",
       "D    16580\n",
       "C    15524\n",
       "Name: GEOCODE2, dtype: int64"
      ]
     },
     "execution_count": 97,
     "metadata": {},
     "output_type": "execute_result"
    }
   ],
   "source": [
    "categorical['GEOCODE2'].value_counts()"
   ]
  },
  {
   "cell_type": "code",
   "execution_count": null,
   "id": "6597f2b0",
   "metadata": {},
   "outputs": [],
   "source": [
    "#See input 63 --> the NaN values filled by A, the value that appears the most see below:\n",
    "#A      34484\n",
    "#B      28505\n",
    "#D      16580\n",
    "#C      15524\n",
    "#NaN      319\n",
    "#Name: GEOCODE2, dtype: int64"
   ]
  },
  {
   "cell_type": "code",
   "execution_count": 98,
   "id": "79024956",
   "metadata": {},
   "outputs": [
    {
     "data": {
      "text/plain": [
       "9.0    7585\n",
       "8.0    6793\n",
       "7.0    6198\n",
       "6.0    5825\n",
       "5.0    5280\n",
       "4.0    4810\n",
       "3.0    4237\n",
       "2.0    4085\n",
       "1.0    3454\n",
       "0.0    2413\n",
       "Name: WEALTH1, dtype: int64"
      ]
     },
     "execution_count": 98,
     "metadata": {},
     "output_type": "execute_result"
    }
   ],
   "source": [
    "numerical['WEALTH1'].value_counts()"
   ]
  },
  {
   "cell_type": "code",
   "execution_count": null,
   "id": "9e2f0a1c",
   "metadata": {},
   "outputs": [],
   "source": [
    "# description: `WEALTH1` | Wealth Rating (no additional/clear information) --> drop column"
   ]
  },
  {
   "cell_type": "code",
   "execution_count": 99,
   "id": "fc7fd1cc",
   "metadata": {},
   "outputs": [
    {
     "data": {
      "text/plain": [
       "13.0     7296\n",
       "51.0     4622\n",
       "65.0     3765\n",
       "57.0     2836\n",
       "105.0    2617\n",
       "         ... \n",
       "147.0       1\n",
       "161.0       1\n",
       "651.0       1\n",
       "103.0       1\n",
       "601.0       1\n",
       "Name: ADI, Length: 204, dtype: int64"
      ]
     },
     "execution_count": 99,
     "metadata": {},
     "output_type": "execute_result"
    }
   ],
   "source": [
    "numerical['ADI'].value_counts()"
   ]
  },
  {
   "cell_type": "code",
   "execution_count": null,
   "id": "aa32d51b",
   "metadata": {},
   "outputs": [],
   "source": [
    "# description: ADI` | ADI Code(no additional/clear information) --> drop column"
   ]
  },
  {
   "cell_type": "code",
   "execution_count": 100,
   "id": "ef07eae2",
   "metadata": {},
   "outputs": [
    {
     "data": {
      "text/plain": [
       "803.0    7296\n",
       "602.0    4632\n",
       "807.0    3765\n",
       "505.0    2839\n",
       "819.0    2588\n",
       "         ... \n",
       "569.0       1\n",
       "516.0       1\n",
       "552.0       1\n",
       "554.0       1\n",
       "584.0       1\n",
       "Name: DMA, Length: 206, dtype: int64"
      ]
     },
     "execution_count": 100,
     "metadata": {},
     "output_type": "execute_result"
    }
   ],
   "source": [
    "numerical['DMA'].value_counts()"
   ]
  },
  {
   "cell_type": "code",
   "execution_count": null,
   "id": "9bfec02a",
   "metadata": {},
   "outputs": [],
   "source": [
    "# description: `DMA` | DMA Code (no additional/clear information) --> drop column"
   ]
  },
  {
   "cell_type": "code",
   "execution_count": 101,
   "id": "dcf5a7db",
   "metadata": {},
   "outputs": [
    {
     "data": {
      "text/plain": [
       "0.0       21333\n",
       "4480.0     4606\n",
       "1600.0     4059\n",
       "2160.0     2586\n",
       "520.0      1685\n",
       "          ...  \n",
       "2975.0        1\n",
       "9140.0        1\n",
       "9280.0        1\n",
       "9000.0        1\n",
       "1320.0        1\n",
       "Name: MSA, Length: 298, dtype: int64"
      ]
     },
     "execution_count": 101,
     "metadata": {},
     "output_type": "execute_result"
    }
   ],
   "source": [
    "numerical['MSA'].value_counts()"
   ]
  },
  {
   "cell_type": "code",
   "execution_count": null,
   "id": "15acb3b4",
   "metadata": {},
   "outputs": [],
   "source": [
    "# description: `MSA` | MSA Code (no additional/clear information) --> drop column"
   ]
  },
  {
   "cell_type": "code",
   "execution_count": null,
   "id": "481243b4",
   "metadata": {},
   "outputs": [],
   "source": [
    "#numerical = numerical.drop(columns=drop_list)"
   ]
  },
  {
   "cell_type": "code",
   "execution_count": null,
   "id": "56196dea",
   "metadata": {},
   "outputs": [],
   "source": [
    "#df = pd.DataFrame(numerical.isna().sum()).reset_index()\n",
    "#df.columns = ['column_name', 'nulls']\n",
    "#df[df['nulls']>0]"
   ]
  },
  {
   "cell_type": "code",
   "execution_count": null,
   "id": "8d8b87f2",
   "metadata": {},
   "outputs": [],
   "source": [
    "#numerical.to_csv('numerical.csv')\n",
    "#categorical.to_csv('categorical.csv')"
   ]
  },
  {
   "cell_type": "code",
   "execution_count": null,
   "id": "0d997f93",
   "metadata": {},
   "outputs": [],
   "source": [
    "#Y.to_csv('target.csv')"
   ]
  },
  {
   "cell_type": "code",
   "execution_count": null,
   "id": "9152c7dd",
   "metadata": {},
   "outputs": [],
   "source": [
    "#numerical.to_pickle('numerical.p')\n",
    "#categorical.to_pickle('categorical.p')\n",
    "#Y.to_pickle('target.p')"
   ]
  }
 ],
 "metadata": {
  "kernelspec": {
   "display_name": "Python 3",
   "language": "python",
   "name": "python3"
  },
  "language_info": {
   "codemirror_mode": {
    "name": "ipython",
    "version": 3
   },
   "file_extension": ".py",
   "mimetype": "text/x-python",
   "name": "python",
   "nbconvert_exporter": "python",
   "pygments_lexer": "ipython3",
   "version": "3.8.8"
  }
 },
 "nbformat": 4,
 "nbformat_minor": 5
}
